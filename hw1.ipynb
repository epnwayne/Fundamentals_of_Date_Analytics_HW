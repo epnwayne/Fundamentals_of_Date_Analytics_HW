{
 "cells": [
  {
   "cell_type": "markdown",
   "metadata": {},
   "source": [
    "## **1. Top-10 Reviewer**"
   ]
  },
  {
   "cell_type": "code",
   "execution_count": 245,
   "metadata": {},
   "outputs": [
    {
     "name": "stderr",
     "output_type": "stream",
     "text": [
      "/home/wayne/anaconda3/lib/python3.7/site-packages/ipykernel_launcher.py:20: SettingWithCopyWarning: \n",
      "A value is trying to be set on a copy of a slice from a DataFrame\n",
      "\n",
      "See the caveats in the documentation: http://pandas.pydata.org/pandas-docs/stable/indexing.html#indexing-view-versus-copy\n",
      "/home/wayne/anaconda3/lib/python3.7/site-packages/ipykernel_launcher.py:21: SettingWithCopyWarning: \n",
      "A value is trying to be set on a copy of a slice from a DataFrame\n",
      "\n",
      "See the caveats in the documentation: http://pandas.pydata.org/pandas-docs/stable/indexing.html#indexing-view-versus-copy\n",
      "/home/wayne/anaconda3/lib/python3.7/site-packages/ipykernel_launcher.py:22: SettingWithCopyWarning: \n",
      "A value is trying to be set on a copy of a slice from a DataFrame\n",
      "\n",
      "See the caveats in the documentation: http://pandas.pydata.org/pandas-docs/stable/indexing.html#indexing-view-versus-copy\n",
      "/home/wayne/anaconda3/lib/python3.7/site-packages/ipykernel_launcher.py:23: PerformanceWarning: indexing past lexsort depth may impact performance.\n",
      "/home/wayne/anaconda3/lib/python3.7/site-packages/ipykernel_launcher.py:23: SettingWithCopyWarning: \n",
      "A value is trying to be set on a copy of a slice from a DataFrame\n",
      "\n",
      "See the caveats in the documentation: http://pandas.pydata.org/pandas-docs/stable/indexing.html#indexing-view-versus-copy\n"
     ]
    },
    {
     "name": "stdout",
     "output_type": "stream",
     "text": [
      "                                                          Score count  \\\n",
      "UserId         ProfileName                                              \n",
      "A1Z54EM24Y40LL c2                                                  17   \n",
      "A2SZLNSI5KOQJT Carrie, \"Formerly &#34;Sister Carrie&#34;\"          10   \n",
      "A35R32TA60XD57 M. Torma                                             9   \n",
      "A281NPSIMI1C2R Rebecca of Amazon \"The Rebecca Review\"               8   \n",
      "A3NHUQ33CFH3VM Citizen John                                         7   \n",
      "A3OXHLG6DIBRW8 C. F. Hill \"CFH\"                                     7   \n",
      "A3PJZ8TU8FDQ1K Jared Castle                                         7   \n",
      "ABQN42N7ICNZQ  T.O. Perspective                                     6   \n",
      "A3TX6CWSZL02PW LaVerne \":LaVerne\"                                   6   \n",
      "AQ6SHOW0VMZGF  K. Padgett \"familyof5\"                               6   \n",
      "\n",
      "                                                           Score mean  \n",
      "UserId         ProfileName                                             \n",
      "A1Z54EM24Y40LL c2                                            3.882353  \n",
      "A2SZLNSI5KOQJT Carrie, \"Formerly &#34;Sister Carrie&#34;\"    3.800000  \n",
      "A35R32TA60XD57 M. Torma                                      4.111111  \n",
      "A281NPSIMI1C2R Rebecca of Amazon \"The Rebecca Review\"        5.000000  \n",
      "A3NHUQ33CFH3VM Citizen John                                  3.142857  \n",
      "A3OXHLG6DIBRW8 C. F. Hill \"CFH\"                              4.428571  \n",
      "A3PJZ8TU8FDQ1K Jared Castle                                  4.714286  \n",
      "ABQN42N7ICNZQ  T.O. Perspective                              4.333333  \n",
      "A3TX6CWSZL02PW LaVerne \":LaVerne\"                            5.000000  \n",
      "AQ6SHOW0VMZGF  K. Padgett \"familyof5\"                        2.666667  \n"
     ]
    }
   ],
   "source": [
    "import pandas as pd\n",
    "import numpy as np\n",
    "from collections import Counter\n",
    "data_path = \"./Reviews.csv\"\n",
    "\n",
    "# read file\n",
    "pd_data = pd.read_csv(data_path)\n",
    "# choose first 10000 rows\n",
    "pd_data = pd_data[:10000]\n",
    "# use userid and profilename\n",
    "pd_data.set_index(['UserId', 'ProfileName'], inplace=True)\n",
    "# choose top 10 reviewers\n",
    "top10 = pd_data.index.value_counts().nlargest(10)\n",
    "\n",
    "\n",
    "ans_df = pd.DataFrame(columns = ['UserId', 'ProfileName', 'Score count', 'Score mean'])\n",
    "ans_df['Score mean'] = [0.0, 0.0, 0.0, 0.0, 0.0, 0.0, 0.0, 0.0, 0.0, 0.0]\n",
    "\n",
    "for i in range(0, 10):\n",
    "    ans_df['UserId'][i] = top10.index[i][0]\n",
    "    ans_df['ProfileName'][i] = top10.index[i][1]\n",
    "    ans_df['Score count'][i] = top10[i]\n",
    "    ans_df['Score mean'][i] = round(pd_data.loc[top10.index[i]]['Score'].mean(), 6) \n",
    "\n",
    "ans_df.set_index(['UserId', 'ProfileName'], inplace=True)\n",
    "print(ans_df)"
   ]
  }
 ],
 "metadata": {
  "kernelspec": {
   "display_name": "Python 3",
   "language": "python",
   "name": "python3"
  },
  "language_info": {
   "codemirror_mode": {
    "name": "ipython",
    "version": 3
   },
   "file_extension": ".py",
   "mimetype": "text/x-python",
   "name": "python",
   "nbconvert_exporter": "python",
   "pygments_lexer": "ipython3",
   "version": "3.7.1"
  }
 },
 "nbformat": 4,
 "nbformat_minor": 2
}
