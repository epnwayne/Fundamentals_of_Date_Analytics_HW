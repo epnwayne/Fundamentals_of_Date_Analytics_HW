{
 "cells": [
  {
   "cell_type": "markdown",
   "metadata": {},
   "source": [
    "# HW3 : predict the stock movement\n",
    "## dataset\n",
    "   [2009/1~2019/1](https://www.sharecast.com/index/SP_500/prices/download)\n"
   ]
  },
  {
   "cell_type": "code",
   "execution_count": 153,
   "metadata": {},
   "outputs": [],
   "source": [
    "import pandas as pd\n",
    "\n",
    "path = './download.csv'\n",
    "pd_data = pd.read_csv(path)\n",
    "pd_data.head()\n",
    "\n",
    "import warnings\n",
    "warnings.filterwarnings(\"ignore\")\n"
   ]
  },
  {
   "cell_type": "markdown",
   "metadata": {},
   "source": [
    "## Preprocessing\n",
    "### create the column of stock movement\n",
    "    和前一天比，increase:1, decrease:0"
   ]
  },
  {
   "cell_type": "code",
   "execution_count": 154,
   "metadata": {},
   "outputs": [
    {
     "data": {
      "text/html": [
       "<div>\n",
       "<style scoped>\n",
       "    .dataframe tbody tr th:only-of-type {\n",
       "        vertical-align: middle;\n",
       "    }\n",
       "\n",
       "    .dataframe tbody tr th {\n",
       "        vertical-align: top;\n",
       "    }\n",
       "\n",
       "    .dataframe thead th {\n",
       "        text-align: right;\n",
       "    }\n",
       "</style>\n",
       "<table border=\"1\" class=\"dataframe\">\n",
       "  <thead>\n",
       "    <tr style=\"text-align: right;\">\n",
       "      <th></th>\n",
       "      <th>Date</th>\n",
       "      <th>Open Price</th>\n",
       "      <th>Close Price</th>\n",
       "      <th>High Price</th>\n",
       "      <th>Low Price</th>\n",
       "      <th>Volume</th>\n",
       "      <th>movement</th>\n",
       "    </tr>\n",
       "  </thead>\n",
       "  <tbody>\n",
       "    <tr>\n",
       "      <th>0</th>\n",
       "      <td>02-Jan-2009</td>\n",
       "      <td>902.99</td>\n",
       "      <td>931.80</td>\n",
       "      <td>934.73</td>\n",
       "      <td>899.35</td>\n",
       "      <td>4048270080</td>\n",
       "      <td>0</td>\n",
       "    </tr>\n",
       "    <tr>\n",
       "      <th>1</th>\n",
       "      <td>05-Jan-2009</td>\n",
       "      <td>929.17</td>\n",
       "      <td>927.45</td>\n",
       "      <td>936.63</td>\n",
       "      <td>919.53</td>\n",
       "      <td>5413910016</td>\n",
       "      <td>1</td>\n",
       "    </tr>\n",
       "    <tr>\n",
       "      <th>2</th>\n",
       "      <td>06-Jan-2009</td>\n",
       "      <td>931.17</td>\n",
       "      <td>934.70</td>\n",
       "      <td>943.85</td>\n",
       "      <td>927.28</td>\n",
       "      <td>5392620032</td>\n",
       "      <td>0</td>\n",
       "    </tr>\n",
       "    <tr>\n",
       "      <th>3</th>\n",
       "      <td>07-Jan-2009</td>\n",
       "      <td>927.45</td>\n",
       "      <td>906.65</td>\n",
       "      <td>927.45</td>\n",
       "      <td>902.37</td>\n",
       "      <td>4704940032</td>\n",
       "      <td>1</td>\n",
       "    </tr>\n",
       "    <tr>\n",
       "      <th>4</th>\n",
       "      <td>08-Jan-2009</td>\n",
       "      <td>905.73</td>\n",
       "      <td>909.73</td>\n",
       "      <td>910.00</td>\n",
       "      <td>896.81</td>\n",
       "      <td>4991549952</td>\n",
       "      <td>0</td>\n",
       "    </tr>\n",
       "  </tbody>\n",
       "</table>\n",
       "</div>"
      ],
      "text/plain": [
       "          Date  Open Price  Close Price  High Price  Low Price      Volume  \\\n",
       "0  02-Jan-2009      902.99       931.80      934.73     899.35  4048270080   \n",
       "1  05-Jan-2009      929.17       927.45      936.63     919.53  5413910016   \n",
       "2  06-Jan-2009      931.17       934.70      943.85     927.28  5392620032   \n",
       "3  07-Jan-2009      927.45       906.65      927.45     902.37  4704940032   \n",
       "4  08-Jan-2009      905.73       909.73      910.00     896.81  4991549952   \n",
       "\n",
       "   movement  \n",
       "0         0  \n",
       "1         1  \n",
       "2         0  \n",
       "3         1  \n",
       "4         0  "
      ]
     },
     "execution_count": 154,
     "metadata": {},
     "output_type": "execute_result"
    }
   ],
   "source": [
    "pd_data['movement'] = 0\n",
    "\n",
    "for i in range(0, 2515):\n",
    "    if(pd_data['Close Price'][i] < pd_data['Close Price'][i+1]):\n",
    "        pd_data['movement'][i] = 1\n",
    "    \n",
    "pd_data.head()\n"
   ]
  },
  {
   "cell_type": "markdown",
   "metadata": {},
   "source": [
    "### split train set and test set\n",
    "    Attribute：Open Price（開盤價）、Close Price（收盤價）、High Price（當日最高價）、Low Price（當日最低價）、Volume（當日成交量）\n",
    "    前2264筆資料當作train set，2009~2017年\n",
    "    剩餘252筆資料當作test set，2018年\n",
    "    "
   ]
  },
  {
   "cell_type": "code",
   "execution_count": 155,
   "metadata": {},
   "outputs": [
    {
     "name": "stdout",
     "output_type": "stream",
     "text": [
      "   Open Price  Close Price  High Price  Low Price      Volume\n",
      "0      902.99       931.80      934.73     899.35  4048270080\n",
      "1      929.17       927.45      936.63     919.53  5413910016\n",
      "2      931.17       934.70      943.85     927.28  5392620032\n",
      "3      927.45       906.65      927.45     902.37  4704940032\n",
      "4      905.73       909.73      910.00     896.81  4991549952\n",
      "   movement\n",
      "0         0\n",
      "1         1\n",
      "2         0\n",
      "3         1\n",
      "4         0\n"
     ]
    }
   ],
   "source": [
    "train = pd_data[:2264]\n",
    "test = pd_data[2264:]\n",
    "\n",
    "#train set x\n",
    "xtr = train[['Open Price', 'Close Price', 'High Price', 'Low Price', 'Volume']]\n",
    "#train set y\n",
    "ytr = train[['movement']]\n",
    "#test set x \n",
    "xte = test[['Open Price', 'Close Price', 'High Price', 'Low Price', 'Volume']]\n",
    "#test set y\n",
    "yte = test[['movement']]\n",
    "\n",
    "print(xtr.head())\n",
    "print(ytr.head())"
   ]
  },
  {
   "cell_type": "markdown",
   "metadata": {},
   "source": [
    "### standardization"
   ]
  },
  {
   "cell_type": "code",
   "execution_count": 156,
   "metadata": {},
   "outputs": [
    {
     "name": "stdout",
     "output_type": "stream",
     "text": [
      "[[-1.55230001 -1.49441197 -1.50545617 -1.54093327  0.81362581]\n",
      " [-1.49834121 -1.50337884 -1.50153623 -1.49936521  1.82418053]\n",
      " [-1.49421907 -1.48843406 -1.48664047 -1.48340126  1.80842623]\n",
      " ...\n",
      " [ 2.1145693   2.11464105  2.10688987  2.1247189  -1.33171387]\n",
      " [ 2.12281357  2.12478289  2.11105738  2.13250518 -1.34874724]\n",
      " [ 2.12909984  2.09606828  2.12025892  2.11380162 -1.19609981]]\n"
     ]
    }
   ],
   "source": [
    "from sklearn.preprocessing import StandardScaler\n",
    "\n",
    "scaler = StandardScaler()\n",
    "scaler.fit(xtr)\n",
    "xtr_std = scaler.transform(xtr)\n",
    "xte_std = scaler.transform(xte)\n",
    "\n",
    "print(xtr_std)"
   ]
  },
  {
   "cell_type": "markdown",
   "metadata": {},
   "source": [
    "## 1.Logistic Regression\n",
    "\n",
    "### 用預設的參數\n",
    "    準確率不太好，只有0.52"
   ]
  },
  {
   "cell_type": "code",
   "execution_count": 157,
   "metadata": {},
   "outputs": [
    {
     "name": "stdout",
     "output_type": "stream",
     "text": [
      "0.5198412698412699\n",
      "[1 1 1 1 1 1 1 1 1 1 1 1 1 1 1 1 1 1 1 1 1 1 1 1 0 1 1 1 1 1 1 1 1 1 1 1 1\n",
      " 1 1 1 1 1 1 1 1 1 1 1 1 1 1 1 1 1 1 1 1 1 1 1 1 1 1 1 1 1 1 1 1 1 1 1 1 1\n",
      " 1 1 1 1 1 1 1 1 1 1 1 1 1 1 1 1 1 1 1 1 1 1 1 1 1 1 1 1 1 1 1 1 1 1 1 1 1\n",
      " 1 1 1 1 1 1 1 1 1 1 1 1 1 1 1 1 1 1 1 1 1 1 1 1 1 1 1 1 1 1 1 1 1 1 1 1 1\n",
      " 1 1 1 1 1 1 1 1 1 1 1 1 1 1 1 1 1 1 1 1 1 1 1 1 1 1 1 1 1 1 1 1 1 1 1 1 1\n",
      " 1 1 1 1 1 1 1 1 1 1 1 1 1 1 1 1 1 1 1 1 1 1 1 1 1 1 1 1 1 1 1 1 1 1 1 1 1\n",
      " 1 1 1 1 1 1 1 1 1 1 1 1 1 1 1 1 1 1 1 1 1 1 1 1 1 1 0 1 1 1]\n"
     ]
    }
   ],
   "source": [
    "from sklearn.linear_model import LogisticRegression\n",
    "from sklearn.metrics import accuracy_score\n",
    "\n",
    "LR = LogisticRegression()\n",
    "LR.fit(xtr_std, ytr)\n",
    "\n",
    "result = LR.predict(xte_std)\n",
    "acc_rate = accuracy_score(yte, result)\n",
    "print(acc_rate)\n",
    "print(result)"
   ]
  },
  {
   "cell_type": "markdown",
   "metadata": {},
   "source": [
    "### 把volume拿掉試試看\n",
    "    準確率不變，作用不大"
   ]
  },
  {
   "cell_type": "code",
   "execution_count": 158,
   "metadata": {},
   "outputs": [
    {
     "name": "stdout",
     "output_type": "stream",
     "text": [
      "0.5198412698412699\n"
     ]
    }
   ],
   "source": [
    "tr_std = xtr_std[:, 0:4]\n",
    "te_std = xte_std[:, 0:4]\n",
    "\n",
    "LR.fit(tr_std, ytr)\n",
    "result = LR.predict(te_std)\n",
    "acc_rate = accuracy_score(yte, result)\n",
    "print(acc_rate)"
   ]
  },
  {
   "cell_type": "markdown",
   "metadata": {},
   "source": [
    "## 2.SVM\n",
    "### 用預設的參數，發現準確率偏低\n",
    "    default: penalty = 1, kernel = rbf\n",
    "    準確率仍為0.52"
   ]
  },
  {
   "cell_type": "code",
   "execution_count": 159,
   "metadata": {},
   "outputs": [
    {
     "name": "stdout",
     "output_type": "stream",
     "text": [
      "0.5198412698412699\n",
      "[1 1 1 1 1 1 1 1 1 1 1 1 1 1 1 1 1 1 1 1 1 1 1 1 1 1 1 1 1 1 1 1 1 1 1 1 1\n",
      " 1 1 1 1 1 1 1 1 1 1 1 1 1 1 1 1 1 1 1 1 1 1 1 1 1 1 1 1 1 1 1 1 1 1 1 1 1\n",
      " 1 1 1 1 1 1 1 1 1 1 1 1 1 1 1 1 1 1 1 1 1 1 1 1 1 1 1 1 1 1 1 1 1 1 1 1 1\n",
      " 1 1 1 1 1 1 1 1 1 1 1 1 1 1 1 1 1 1 1 1 1 1 1 1 1 1 1 1 1 1 1 1 1 1 1 1 1\n",
      " 1 1 1 1 1 1 1 1 1 1 1 1 1 1 1 1 1 1 1 1 1 1 1 1 1 1 1 1 1 1 1 1 1 1 1 1 1\n",
      " 1 1 1 1 1 1 1 1 1 1 1 1 1 1 1 1 1 1 1 1 1 1 1 1 1 1 1 1 1 1 1 1 1 1 1 1 1\n",
      " 1 1 1 1 1 1 1 1 1 1 1 1 1 1 1 1 1 1 1 1 1 1 1 1 1 1 1 1 1 1]\n"
     ]
    }
   ],
   "source": [
    "from sklearn.svm import SVC\n",
    "\n",
    "svm = SVC()\n",
    "svm.fit(xtr_std, ytr)\n",
    "\n",
    "result = svm.predict(xte_std)\n",
    "acc_rate = accuracy_score(yte, result)\n",
    "print(acc_rate)\n",
    "print(result)"
   ]
  },
  {
   "cell_type": "markdown",
   "metadata": {},
   "source": [
    "### 換個kernel試試看\n",
    "    當kernel = linear，準確律還是不變\n",
    "    accuracy: 0.52"
   ]
  },
  {
   "cell_type": "code",
   "execution_count": 160,
   "metadata": {},
   "outputs": [
    {
     "name": "stdout",
     "output_type": "stream",
     "text": [
      "0.5198412698412699\n",
      "[1 1 1 1 1 1 1 1 1 1 1 1 1 1 1 1 1 1 1 1 1 1 1 1 1 1 1 1 1 1 1 1 1 1 1 1 1\n",
      " 1 1 1 1 1 1 1 1 1 1 1 1 1 1 1 1 1 1 1 1 1 1 1 1 1 1 1 1 1 1 1 1 1 1 1 1 1\n",
      " 1 1 1 1 1 1 1 1 1 1 1 1 1 1 1 1 1 1 1 1 1 1 1 1 1 1 1 1 1 1 1 1 1 1 1 1 1\n",
      " 1 1 1 1 1 1 1 1 1 1 1 1 1 1 1 1 1 1 1 1 1 1 1 1 1 1 1 1 1 1 1 1 1 1 1 1 1\n",
      " 1 1 1 1 1 1 1 1 1 1 1 1 1 1 1 1 1 1 1 1 1 1 1 1 1 1 1 1 1 1 1 1 1 1 1 1 1\n",
      " 1 1 1 1 1 1 1 1 1 1 1 1 1 1 1 1 1 1 1 1 1 1 1 1 1 1 1 1 1 1 1 1 1 1 1 1 1\n",
      " 1 1 1 1 1 1 1 1 1 1 1 1 1 1 1 1 1 1 1 1 1 1 1 1 1 1 1 1 1 1]\n"
     ]
    }
   ],
   "source": [
    "svm = SVC(kernel = 'linear')\n",
    "svm.fit(xtr_std, ytr)\n",
    "\n",
    "result = svm.predict(xte_std)\n",
    "acc_rate = accuracy_score(yte, result)\n",
    "print(acc_rate)\n",
    "print(result)"
   ]
  },
  {
   "cell_type": "markdown",
   "metadata": {},
   "source": [
    "### 調高penalty\n",
    "    測試過後，最佳的penalty是9\n",
    "    準確值意外的來到0.61"
   ]
  },
  {
   "cell_type": "code",
   "execution_count": 161,
   "metadata": {},
   "outputs": [
    {
     "name": "stdout",
     "output_type": "stream",
     "text": [
      "0.6111111111111112\n",
      "[1 1 1 1 1 1 1 0 0 0 0 0 0 0 0 0 0 0 0 0 0 0 0 0 0 0 1 1 1 1 1 1 1 1 1 1 1\n",
      " 0 0 0 0 1 1 1 1 1 0 0 0 0 1 0 1 1 1 1 1 1 1 1 1 1 1 1 1 1 1 1 1 1 1 1 1 1\n",
      " 1 1 1 1 1 1 1 1 1 1 1 1 1 1 1 1 1 1 1 1 1 1 1 1 1 1 1 1 1 0 1 1 1 0 0 1 1\n",
      " 0 0 0 0 0 0 0 0 0 1 1 1 1 1 1 1 1 1 1 1 1 0 0 0 0 0 0 0 0 0 0 0 0 0 0 0 0\n",
      " 0 0 0 0 0 0 0 0 0 0 0 0 0 0 0 0 0 0 0 0 0 0 0 0 0 0 0 0 0 0 0 0 0 0 0 0 0\n",
      " 0 0 0 0 0 0 0 0 0 0 0 0 0 1 0 0 0 0 0 0 0 0 0 1 0 0 0 0 1 1 0 0 0 0 0 0 0\n",
      " 0 1 1 1 1 1 1 0 1 0 0 0 0 0 1 1 1 1 1 1 1 1 1 1 1 1 1 1 1 1]\n"
     ]
    }
   ],
   "source": [
    "svm = SVC(C = 9)\n",
    "svm.fit(xtr_std, ytr)\n",
    "\n",
    "result = svm.predict(xte_std)\n",
    "acc_rate = accuracy_score(yte, result)\n",
    "print(acc_rate)\n",
    "print(result)"
   ]
  },
  {
   "cell_type": "markdown",
   "metadata": {},
   "source": [
    "### 再換個kernel"
   ]
  },
  {
   "cell_type": "code",
   "execution_count": 162,
   "metadata": {},
   "outputs": [
    {
     "name": "stdout",
     "output_type": "stream",
     "text": [
      "0.5198412698412699\n",
      "[1 1 1 1 1 1 1 1 1 1 1 1 1 1 1 1 1 1 1 1 1 1 1 1 1 1 1 1 1 1 1 1 1 1 1 1 1\n",
      " 1 1 1 1 1 1 1 1 1 1 1 1 1 1 1 1 1 1 1 1 1 1 1 1 1 1 1 1 1 1 1 1 1 1 1 1 1\n",
      " 1 1 1 1 1 1 1 1 1 1 1 1 1 1 1 1 1 1 1 1 1 1 1 1 1 1 1 1 1 1 1 1 1 1 1 1 1\n",
      " 1 1 1 1 1 1 1 1 1 1 1 1 1 1 1 1 1 1 1 1 1 1 1 1 1 1 1 1 1 1 1 1 1 1 1 1 1\n",
      " 1 1 1 1 1 1 1 1 1 1 1 1 1 1 1 1 1 1 1 1 1 1 1 1 1 1 1 1 1 1 1 1 1 1 1 1 1\n",
      " 1 1 1 1 1 1 1 1 1 1 1 1 1 1 1 1 1 1 1 1 1 1 1 1 1 1 1 1 1 1 1 1 1 1 1 1 1\n",
      " 1 1 1 1 1 1 1 1 1 1 1 1 1 1 1 1 1 1 1 1 1 1 1 1 1 1 1 1 1 1]\n"
     ]
    }
   ],
   "source": [
    "svm = SVC(C = 9, kernel = 'linear')\n",
    "svm.fit(xtr_std, ytr)\n",
    "\n",
    "result = svm.predict(xte_std)\n",
    "acc_rate = accuracy_score(yte, result)\n",
    "print(acc_rate)\n",
    "print(result)"
   ]
  },
  {
   "cell_type": "markdown",
   "metadata": {},
   "source": [
    "## Neural Network\n"
   ]
  },
  {
   "cell_type": "code",
   "execution_count": 163,
   "metadata": {},
   "outputs": [],
   "source": [
    "from keras import models, layers, optimizers, regularizers\n",
    "\n",
    "hidden_units = 10\n",
    "activation = 'relu'\n",
    "l2 = 0.001\n",
    "learning_rate = 0.1\n",
    "epochs = 20\n",
    "batch_size = 100"
   ]
  },
  {
   "cell_type": "code",
   "execution_count": 164,
   "metadata": {},
   "outputs": [],
   "source": [
    "model = models.Sequential()\n",
    "\n",
    "#hidden layer\n",
    "model.add(layers.Dense(input_dim = 5, units = hidden_units, activation=activation))\n",
    "\n",
    "#output layer\n",
    "model.add(layers.Dense(input_dim = hidden_units, units = 1, activation='sigmoid'))\n",
    "\n",
    "#loss function and optimizer\n",
    "model.compile(loss='binary_crossentropy',\n",
    "              optimizer=optimizers.Adam(lr=learning_rate),\n",
    "              metrics=['accuracy'])"
   ]
  },
  {
   "cell_type": "markdown",
   "metadata": {},
   "source": [
    "### y加上權重"
   ]
  },
  {
   "cell_type": "code",
   "execution_count": 165,
   "metadata": {},
   "outputs": [
    {
     "name": "stdout",
     "output_type": "stream",
     "text": [
      "0's : 1027\n",
      "1's : 1237\n"
     ]
    }
   ],
   "source": [
    "n = ytr['movement'].value_counts()\n",
    "print(\"0's : %d\" % n[0])\n",
    "print(\"1's : %d\" % n[1])\n",
    "class_weight = {\n",
    "    0: 1.,\n",
    "    1: n[1] / n[0]\n",
    "}\n"
   ]
  },
  {
   "cell_type": "markdown",
   "metadata": {},
   "source": [
    "### 1 hidden layer, 10 units\n",
    "* 準確率只有0.52，再試試其他參數"
   ]
  },
  {
   "cell_type": "code",
   "execution_count": 166,
   "metadata": {},
   "outputs": [
    {
     "name": "stdout",
     "output_type": "stream",
     "text": [
      "Epoch 1/20\n",
      "2264/2264 [==============================] - 2s 910us/step - loss: 0.7892 - acc: 0.5406\n",
      "Epoch 2/20\n",
      "2264/2264 [==============================] - 0s 37us/step - loss: 0.7668 - acc: 0.5371\n",
      "Epoch 3/20\n",
      "2264/2264 [==============================] - 0s 43us/step - loss: 0.7572 - acc: 0.5451\n",
      "Epoch 4/20\n",
      "2264/2264 [==============================] - 0s 43us/step - loss: 0.7563 - acc: 0.5455\n",
      "Epoch 5/20\n",
      "2264/2264 [==============================] - 0s 46us/step - loss: 0.7529 - acc: 0.5464\n",
      "Epoch 6/20\n",
      "2264/2264 [==============================] - 0s 49us/step - loss: 0.7514 - acc: 0.5415\n",
      "Epoch 7/20\n",
      "2264/2264 [==============================] - 0s 65us/step - loss: 0.7533 - acc: 0.5464\n",
      "Epoch 8/20\n",
      "2264/2264 [==============================] - 0s 44us/step - loss: 0.7563 - acc: 0.5442\n",
      "Epoch 9/20\n",
      "2264/2264 [==============================] - 0s 64us/step - loss: 0.7524 - acc: 0.5464\n",
      "Epoch 10/20\n",
      "2264/2264 [==============================] - 0s 50us/step - loss: 0.7521 - acc: 0.5464\n",
      "Epoch 11/20\n",
      "2264/2264 [==============================] - 0s 60us/step - loss: 0.7523 - acc: 0.5464\n",
      "Epoch 12/20\n",
      "2264/2264 [==============================] - 0s 67us/step - loss: 0.7546 - acc: 0.5464\n",
      "Epoch 13/20\n",
      "2264/2264 [==============================] - 0s 47us/step - loss: 0.7544 - acc: 0.5464\n",
      "Epoch 14/20\n",
      "2264/2264 [==============================] - 0s 58us/step - loss: 0.7527 - acc: 0.5464\n",
      "Epoch 15/20\n",
      "2264/2264 [==============================] - 0s 80us/step - loss: 0.7529 - acc: 0.5464\n",
      "Epoch 16/20\n",
      "2264/2264 [==============================] - 0s 48us/step - loss: 0.7530 - acc: 0.5451\n",
      "Epoch 17/20\n",
      "2264/2264 [==============================] - 0s 92us/step - loss: 0.7518 - acc: 0.5464\n",
      "Epoch 18/20\n",
      "2264/2264 [==============================] - 0s 87us/step - loss: 0.7525 - acc: 0.5464\n",
      "Epoch 19/20\n",
      "2264/2264 [==============================] - 0s 58us/step - loss: 0.7523 - acc: 0.5464\n",
      "Epoch 20/20\n",
      "2264/2264 [==============================] - 0s 88us/step - loss: 0.7544 - acc: 0.5464\n",
      "2264/2264 [==============================] - 1s 503us/step\n",
      "252/252 [==============================] - 0s 169us/step\n",
      "Training accuracy: 0.5463780918727915\n",
      "Testing accuracy: 0.5198412703143226\n"
     ]
    },
    {
     "data": {
      "image/png": "[encoded data removed]",
      "text/plain": [
       "<Figure size 432x288 with 1 Axes>"
      ]
     },
     "metadata": {
      "needs_background": "light"
     },
     "output_type": "display_data"
    }
   ],
   "source": [
    "import matplotlib.pyplot as plt\n",
    "# train\n",
    "history = model.fit(xtr_std, ytr, epochs=epochs, batch_size=batch_size, class_weight=class_weight)\n",
    "\n",
    "# evaluate accuracy\n",
    "train_acc = model.evaluate(xtr_std, ytr, batch_size=32)[1]\n",
    "test_acc = model.evaluate(xte_std, yte, batch_size=32)[1]\n",
    "print('Training accuracy: %s' % train_acc)\n",
    "print('Testing accuracy: %s' % test_acc)\n",
    "\n",
    "losses = history.history['loss']\n",
    "plt.plot(range(len(losses)), losses, 'r')\n",
    "plt.show()"
   ]
  },
  {
   "cell_type": "markdown",
   "metadata": {},
   "source": [
    "### 2 hidden layers\n",
    "* 準確率還是0.52"
   ]
  },
  {
   "cell_type": "code",
   "execution_count": 167,
   "metadata": {},
   "outputs": [],
   "source": [
    "model = models.Sequential()\n",
    "\n",
    "#hidden layer\n",
    "model.add(layers.Dense(input_dim = 5, units = hidden_units, activation=activation))\n",
    "\n",
    "#hidden layer2\n",
    "model.add(layers.Dense(input_dim = hidden_units, units = hidden_units*2, activation=activation))\n",
    "\n",
    "#output layer\n",
    "model.add(layers.Dense(input_dim = hidden_units*2, units = 1, activation='sigmoid'))\n",
    "\n",
    "#loss function and optimizer\n",
    "model.compile(loss='binary_crossentropy',\n",
    "              optimizer=optimizers.Adam(lr=learning_rate),\n",
    "              metrics=['accuracy'])"
   ]
  },
  {
   "cell_type": "code",
   "execution_count": 168,
   "metadata": {},
   "outputs": [
    {
     "name": "stdout",
     "output_type": "stream",
     "text": [
      "Epoch 1/20\n",
      "2264/2264 [==============================] - 2s 979us/step - loss: 0.7669 - acc: 0.5451\n",
      "Epoch 2/20\n",
      "2264/2264 [==============================] - 0s 51us/step - loss: 0.7536 - acc: 0.5464\n",
      "Epoch 3/20\n",
      "2264/2264 [==============================] - 0s 45us/step - loss: 0.7526 - acc: 0.5464\n",
      "Epoch 4/20\n",
      "2264/2264 [==============================] - 0s 76us/step - loss: 0.7525 - acc: 0.5464\n",
      "Epoch 5/20\n",
      "2264/2264 [==============================] - 0s 68us/step - loss: 0.7530 - acc: 0.5464\n",
      "Epoch 6/20\n",
      "2264/2264 [==============================] - 0s 70us/step - loss: 0.7541 - acc: 0.5464\n",
      "Epoch 7/20\n",
      "2264/2264 [==============================] - 0s 74us/step - loss: 0.7521 - acc: 0.5464\n",
      "Epoch 8/20\n",
      "2264/2264 [==============================] - 0s 60us/step - loss: 0.7527 - acc: 0.5464\n",
      "Epoch 9/20\n",
      "2264/2264 [==============================] - 0s 59us/step - loss: 0.7525 - acc: 0.5464\n",
      "Epoch 10/20\n",
      "2264/2264 [==============================] - 0s 71us/step - loss: 0.7545 - acc: 0.5464\n",
      "Epoch 11/20\n",
      "2264/2264 [==============================] - 0s 57us/step - loss: 0.7525 - acc: 0.5464\n",
      "Epoch 12/20\n",
      "2264/2264 [==============================] - 0s 71us/step - loss: 0.7524 - acc: 0.5464\n",
      "Epoch 13/20\n",
      "2264/2264 [==============================] - 0s 62us/step - loss: 0.7538 - acc: 0.5464\n",
      "Epoch 14/20\n",
      "2264/2264 [==============================] - 0s 61us/step - loss: 0.7532 - acc: 0.5464\n",
      "Epoch 15/20\n",
      "2264/2264 [==============================] - 0s 64us/step - loss: 0.7532 - acc: 0.5464\n",
      "Epoch 16/20\n",
      "2264/2264 [==============================] - 0s 62us/step - loss: 0.7568 - acc: 0.5464\n",
      "Epoch 17/20\n",
      "2264/2264 [==============================] - 0s 60us/step - loss: 0.7529 - acc: 0.5464\n",
      "Epoch 18/20\n",
      "2264/2264 [==============================] - 0s 60us/step - loss: 0.7533 - acc: 0.5464\n",
      "Epoch 19/20\n",
      "2264/2264 [==============================] - 0s 61us/step - loss: 0.7519 - acc: 0.5464\n",
      "Epoch 20/20\n",
      "2264/2264 [==============================] - 0s 68us/step - loss: 0.7527 - acc: 0.5464\n",
      "2264/2264 [==============================] - 1s 457us/step\n",
      "252/252 [==============================] - 0s 191us/step\n",
      "Training accuracy: 0.5463780918727915\n",
      "Testing accuracy: 0.5198412703143226\n"
     ]
    },
    {
     "data": {
      "image/png": "[encoded data removed]",
      "text/plain": [
       "<Figure size 432x288 with 1 Axes>"
      ]
     },
     "metadata": {
      "needs_background": "light"
     },
     "output_type": "display_data"
    }
   ],
   "source": [
    "# train\n",
    "history = model.fit(xtr_std, ytr, epochs=epochs, batch_size=batch_size, class_weight=class_weight)\n",
    "\n",
    "# evaluate accuracy\n",
    "train_acc = model.evaluate(xtr_std, ytr, batch_size=32)[1]\n",
    "test_acc = model.evaluate(xte_std, yte, batch_size=32)[1]\n",
    "print('Training accuracy: %s' % train_acc)\n",
    "print('Testing accuracy: %s' % test_acc)\n",
    "\n",
    "losses = history.history['loss']\n",
    "plt.plot(range(len(losses)), losses, 'r')\n",
    "plt.show()"
   ]
  },
  {
   "cell_type": "markdown",
   "metadata": {},
   "source": [
    "### 討論\n",
    "* dataset提供的資訊量太少，建出的model不夠好\n",
    "* 三種model預測的準確率都偏低，最高的只有SVM跑出的61.2％，可見此數據沒有太多規律可尋\n",
    "* 股票市場漲跌變數太多，難以預測\n",
    "* 若用電腦運算就能準確預測股票市場，那豈不是大家都發大財了XD"
   ]
  },
  {
   "cell_type": "markdown",
   "metadata": {},
   "source": [
    "## Another dataset: iris data set"
   ]
  },
  {
   "cell_type": "code",
   "execution_count": 169,
   "metadata": {},
   "outputs": [
    {
     "name": "stdout",
     "output_type": "stream",
     "text": [
      "['sepal length (cm)', 'sepal width (cm)', 'petal length (cm)', 'petal width (cm)']\n",
      "[[5.1 3.5 1.4 0.2]\n",
      " [4.9 3.  1.4 0.2]\n",
      " [4.7 3.2 1.3 0.2]\n",
      " [4.6 3.1 1.5 0.2]\n",
      " [5.  3.6 1.4 0.2]]\n",
      "['setosa' 'versicolor' 'virginica']\n",
      "[0 0 0 0 0]\n"
     ]
    }
   ],
   "source": [
    "from sklearn import datasets\n",
    "iris = datasets.load_iris()\n",
    "\n",
    "print(iris.feature_names)\n",
    "print(iris.data[:5])\n",
    "print(iris.target_names)\n",
    "print(iris.target[:5])\n",
    "#iris['data']\n",
    "#iris['target']"
   ]
  },
  {
   "cell_type": "markdown",
   "metadata": {},
   "source": [
    "### Preprocessing"
   ]
  },
  {
   "cell_type": "code",
   "execution_count": 194,
   "metadata": {},
   "outputs": [
    {
     "name": "stdout",
     "output_type": "stream",
     "text": [
      "[[-0.2630048  -0.83381911  0.23218166  0.09625595]\n",
      " [ 2.23129879 -1.06964674  1.72923356  1.36456966]\n",
      " [-1.45076842  0.1094914  -1.26487024 -1.29888913]\n",
      " [-1.21321569 -0.12633623 -1.32031661 -1.4257205 ]\n",
      " [-1.21321569  0.81697428 -1.20942387 -1.29888913]]\n"
     ]
    }
   ],
   "source": [
    "#split train set and test set\n",
    "from sklearn.model_selection import train_test_split\n",
    "xtr, xte, ytr, yte = train_test_split(iris['data'], iris['target'])\n",
    "\n",
    "#standardlization\n",
    "scaler.fit(xtr)\n",
    "xtr_std = scaler.transform(xtr)\n",
    "xte_std = scaler.transform(xte)\n",
    "\n",
    "print(xtr_std[:5])"
   ]
  },
  {
   "cell_type": "markdown",
   "metadata": {},
   "source": [
    "### Logistic Regression、SVM、Neural Network"
   ]
  },
  {
   "cell_type": "code",
   "execution_count": 196,
   "metadata": {},
   "outputs": [
    {
     "name": "stdout",
     "output_type": "stream",
     "text": [
      "logistic regression: 0.8421\n",
      "SVM: 0.9737\n",
      "zero's number:38, one's number: 33, two's number: 41\n",
      "Epoch 1/20\n",
      "112/112 [==============================] - 3s 23ms/step - loss: 0.2965 - acc: 0.3393\n",
      "Epoch 2/20\n",
      "112/112 [==============================] - 0s 330us/step - loss: 0.2351 - acc: 0.4821\n",
      "Epoch 3/20\n",
      "112/112 [==============================] - 0s 381us/step - loss: 0.1773 - acc: 0.5536\n",
      "Epoch 4/20\n",
      "112/112 [==============================] - 0s 369us/step - loss: 0.1211 - acc: 0.5625\n",
      "Epoch 5/20\n",
      "112/112 [==============================] - 0s 447us/step - loss: 0.0640 - acc: 0.5804\n",
      "Epoch 6/20\n",
      "112/112 [==============================] - 0s 436us/step - loss: 0.0122 - acc: 0.5804\n",
      "Epoch 7/20\n",
      "112/112 [==============================] - 0s 487us/step - loss: -0.0389 - acc: 0.5982\n",
      "Epoch 8/20\n",
      "112/112 [==============================] - 0s 382us/step - loss: -0.0884 - acc: 0.6071\n",
      "Epoch 9/20\n",
      "112/112 [==============================] - 0s 347us/step - loss: -0.1396 - acc: 0.6161\n",
      "Epoch 10/20\n",
      "112/112 [==============================] - 0s 516us/step - loss: -0.1887 - acc: 0.6161\n",
      "Epoch 11/20\n",
      "112/112 [==============================] - 0s 435us/step - loss: -0.2361 - acc: 0.6161\n",
      "Epoch 12/20\n",
      "112/112 [==============================] - 0s 431us/step - loss: -0.2907 - acc: 0.6161\n",
      "Epoch 13/20\n",
      "112/112 [==============================] - 0s 420us/step - loss: -0.3390 - acc: 0.6161\n",
      "Epoch 14/20\n",
      "112/112 [==============================] - 0s 445us/step - loss: -0.3879 - acc: 0.6161\n",
      "Epoch 15/20\n",
      "112/112 [==============================] - 0s 622us/step - loss: -0.4428 - acc: 0.6250\n",
      "Epoch 16/20\n",
      "112/112 [==============================] - 0s 708us/step - loss: -0.4966 - acc: 0.6250\n",
      "Epoch 17/20\n",
      "112/112 [==============================] - 0s 476us/step - loss: -0.5507 - acc: 0.6250\n",
      "Epoch 18/20\n",
      "112/112 [==============================] - 0s 588us/step - loss: -0.6088 - acc: 0.6250\n",
      "Epoch 19/20\n",
      "112/112 [==============================] - 0s 429us/step - loss: -0.6628 - acc: 0.6250\n",
      "Epoch 20/20\n",
      "112/112 [==============================] - 0s 470us/step - loss: -0.7228 - acc: 0.6250\n",
      "112/112 [==============================] - 1s 10ms/step\n",
      "38/38 [==============================] - 0s 1ms/step\n",
      "Training accuracy: 0.625\n",
      "Testing accuracy: 0.7631578978739286\n"
     ]
    },
    {
     "data": {
      "image/png": "[encoded data removed]",
      "text/plain": [
       "<Figure size 432x288 with 1 Axes>"
      ]
     },
     "metadata": {
      "needs_background": "light"
     },
     "output_type": "display_data"
    }
   ],
   "source": [
    "#Logistic Regression \n",
    "LR = LogisticRegression()\n",
    "LR.fit(xtr_std, ytr)\n",
    "result = LR.predict(xte_std)\n",
    "acc_rate = accuracy_score(yte, result)\n",
    "print(\"logistic regression: %.4f\" % (acc_rate))\n",
    "\n",
    "#SVM\n",
    "svm = SVC()\n",
    "svm.fit(xtr_std, ytr)\n",
    "result = svm.predict(xte_std)\n",
    "acc_rate = accuracy_score(yte, result)\n",
    "print(\"SVM: %.4f\" % (acc_rate))\n",
    "\n",
    "#Neural Network\n",
    "hidden_units = 50\n",
    "activation = 'relu'\n",
    "l2 = 0.001\n",
    "learning_rate = 0.001\n",
    "epochs = 20\n",
    "batch_size = 20\n",
    "\n",
    "model = models.Sequential()\n",
    "#hidden layer\n",
    "model.add(layers.Dense(input_dim = 4, units = hidden_units, activation=activation))\n",
    "#output layer\n",
    "model.add(layers.Dense(input_dim = hidden_units, units = 1, activation='sigmoid'))\n",
    "#loss function and optimizer\n",
    "model.compile(loss='binary_crossentropy',\n",
    "              optimizer=optimizers.Adam(lr=learning_rate),\n",
    "              metrics=['accuracy'])\n",
    "\n",
    "import numpy as np\n",
    "zn = np.sum(ytr == 0)\n",
    "on = np.sum(ytr == 1)\n",
    "tn = np.sum(ytr == 2)\n",
    "print(\"zero's number:%d, one's number: %d, two's number: %d\" % (zn, on, tn))\n",
    "class_weight = {\n",
    "    0: zn/(on + tn),\n",
    "    1: on/(zn + tn), \n",
    "    2: tn/(on + zn)\n",
    "}\n",
    "\n",
    "# train\n",
    "history = model.fit(xtr_std, ytr, epochs=epochs, batch_size=batch_size, class_weight=class_weight)\n",
    "# evaluate accuracy\n",
    "train_acc = model.evaluate(xtr_std, ytr, batch_size=32)[1]\n",
    "test_acc = model.evaluate(xte_std, yte, batch_size=32)[1]\n",
    "print('Training accuracy: %s' % train_acc)\n",
    "print('Testing accuracy: %s' % test_acc)\n",
    "losses = history.history['loss']\n",
    "plt.plot(range(len(losses)), losses, 'r')\n",
    "plt.show()"
   ]
  },
  {
   "cell_type": "markdown",
   "metadata": {},
   "source": [
    "## 討論\n",
    "* logistic regression： 84.2%\n",
    "* SVM： 97.4%\n",
    "* NN： 76.3%\n",
    "* 在iris dataset中，logistic regression、SVM、NN預測準確率都大幅提高，說明此數據集的attribute有規律可尋\n",
    "* SVM準確率最高，可見此dataset可以很好的話分成三個種類\n"
   ]
  }
 ],
 "metadata": {
  "kernelspec": {
   "display_name": "Python 3",
   "language": "python",
   "name": "python3"
  },
  "language_info": {
   "codemirror_mode": {
    "name": "ipython",
    "version": 3
   },
   "file_extension": ".py",
   "mimetype": "text/x-python",
   "name": "python",
   "nbconvert_exporter": "python",
   "pygments_lexer": "ipython3",
   "version": "3.7.1"
  }
 },
 "nbformat": 4,
 "nbformat_minor": 2
}
