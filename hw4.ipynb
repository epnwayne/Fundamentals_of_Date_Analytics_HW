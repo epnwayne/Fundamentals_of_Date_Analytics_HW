{
 "cells": [
  {
   "cell_type": "markdown",
   "metadata": {},
   "source": [
    "![](https://i.imgur.com/mRnaHS1.jpg)\n",
    "# Dota2 Games Results Data Set \n",
    "* Dota 2 is a popular computer game with **two teams** of **5 players**. At the start of the game **each player chooses a unique hero** with different strengths and weaknesses. The dataset is reasonably sparse as only 10 of 113 possible heroes are chosen in a given game. All games were played in a space of 2 hours on the 13th of August, 2016\n",
    "\n",
    "[dataset](https://archive.ics.uci.edu/ml/datasets/Dota2+Games+Results#)"
   ]
  },
  {
   "cell_type": "code",
   "execution_count": 1,
   "metadata": {},
   "outputs": [
    {
     "name": "stdout",
     "output_type": "stream",
     "text": [
      "train set's shape\n",
      "(92649, 117)\n"
     ]
    }
   ],
   "source": [
    "import pandas as pd\n",
    "import warnings\n",
    "warnings.filterwarnings(\"ignore\")\n",
    "\n",
    "train_path = 'dataset/dota2Train.csv'\n",
    "\n",
    "train_data = pd.read_csv(train_path)\n",
    "print(\"train set's shape\")\n",
    "print(train_data.shape)"
   ]
  },
  {
   "cell_type": "markdown",
   "metadata": {},
   "source": [
    "# Attribute Information\n",
    "* **column1：** Team won the game (1 or -1)\n",
    "    * dota類型的遊戲通常分成兩隊\n",
    "    * 在這裡的1和-1分別代表左下和右上的隊伍\n",
    "* **column2：** Cluster ID \n",
    "    * 這個是指玩家現實的區域\n",
    "    * 111~114：US west，121~124：US east......等，詳細可見下方連結\n",
    "    * [Cluster ID](https://github.com/kronusme/dota2-api/blob/master/data/regions.json)\n",
    "* **column3：** Game mode\n",
    "    * 玩家選擇英雄的模式，例如：all pick就是所有英雄任意選、Captains Mode則是可以進用某些英雄，在dota2有22種mode\n",
    "    * [game mode](https://github.com/kronusme/dota2-api/blob/master/data/mods.json)\n",
    "* **column4：** Game type\n",
    "    * 遊戲種類，例如Ranked是會算分數（天梯）的模式、Solo Mid 1vs1是單挑模式\n",
    "    * [game type](https://github.com/kronusme/dota2-api/blob/master/data/lobbies.json)\n",
    "* **column5~end：** Each element is an indicator for a hero.\n",
    "    * 剩餘欄位每一個欄位代表一個英雄，1代表有玩家選擇了此英雄且在隊伍1，-1亦然\n",
    "    * [hero](https://github.com/kronusme/dota2-api/blob/master/data/heroes.json)\n",
    "    "
   ]
  },
  {
   "cell_type": "code",
   "execution_count": 2,
   "metadata": {},
   "outputs": [
    {
     "data": {
      "text/html": [
       "<div>\n",
       "<style scoped>\n",
       "    .dataframe tbody tr th:only-of-type {\n",
       "        vertical-align: middle;\n",
       "    }\n",
       "\n",
       "    .dataframe tbody tr th {\n",
       "        vertical-align: top;\n",
       "    }\n",
       "\n",
       "    .dataframe thead th {\n",
       "        text-align: right;\n",
       "    }\n",
       "</style>\n",
       "<table border=\"1\" class=\"dataframe\">\n",
       "  <thead>\n",
       "    <tr style=\"text-align: right;\">\n",
       "      <th></th>\n",
       "      <th>-1</th>\n",
       "      <th>223</th>\n",
       "      <th>2</th>\n",
       "      <th>2.1</th>\n",
       "      <th>0</th>\n",
       "      <th>0.1</th>\n",
       "      <th>0.2</th>\n",
       "      <th>0.3</th>\n",
       "      <th>0.4</th>\n",
       "      <th>0.5</th>\n",
       "      <th>...</th>\n",
       "      <th>0.93</th>\n",
       "      <th>0.94</th>\n",
       "      <th>0.95</th>\n",
       "      <th>0.96</th>\n",
       "      <th>0.97</th>\n",
       "      <th>0.98</th>\n",
       "      <th>0.99</th>\n",
       "      <th>0.100</th>\n",
       "      <th>0.101</th>\n",
       "      <th>0.102</th>\n",
       "    </tr>\n",
       "  </thead>\n",
       "  <tbody>\n",
       "    <tr>\n",
       "      <th>0</th>\n",
       "      <td>1</td>\n",
       "      <td>152</td>\n",
       "      <td>2</td>\n",
       "      <td>2</td>\n",
       "      <td>0</td>\n",
       "      <td>0</td>\n",
       "      <td>0</td>\n",
       "      <td>1</td>\n",
       "      <td>0</td>\n",
       "      <td>-1</td>\n",
       "      <td>...</td>\n",
       "      <td>0</td>\n",
       "      <td>0</td>\n",
       "      <td>0</td>\n",
       "      <td>0</td>\n",
       "      <td>0</td>\n",
       "      <td>0</td>\n",
       "      <td>0</td>\n",
       "      <td>0</td>\n",
       "      <td>0</td>\n",
       "      <td>0</td>\n",
       "    </tr>\n",
       "    <tr>\n",
       "      <th>1</th>\n",
       "      <td>1</td>\n",
       "      <td>131</td>\n",
       "      <td>2</td>\n",
       "      <td>2</td>\n",
       "      <td>0</td>\n",
       "      <td>0</td>\n",
       "      <td>0</td>\n",
       "      <td>1</td>\n",
       "      <td>0</td>\n",
       "      <td>-1</td>\n",
       "      <td>...</td>\n",
       "      <td>0</td>\n",
       "      <td>0</td>\n",
       "      <td>0</td>\n",
       "      <td>0</td>\n",
       "      <td>0</td>\n",
       "      <td>0</td>\n",
       "      <td>0</td>\n",
       "      <td>0</td>\n",
       "      <td>0</td>\n",
       "      <td>0</td>\n",
       "    </tr>\n",
       "    <tr>\n",
       "      <th>2</th>\n",
       "      <td>1</td>\n",
       "      <td>154</td>\n",
       "      <td>2</td>\n",
       "      <td>2</td>\n",
       "      <td>0</td>\n",
       "      <td>0</td>\n",
       "      <td>0</td>\n",
       "      <td>0</td>\n",
       "      <td>0</td>\n",
       "      <td>0</td>\n",
       "      <td>...</td>\n",
       "      <td>-1</td>\n",
       "      <td>0</td>\n",
       "      <td>0</td>\n",
       "      <td>0</td>\n",
       "      <td>0</td>\n",
       "      <td>0</td>\n",
       "      <td>0</td>\n",
       "      <td>0</td>\n",
       "      <td>0</td>\n",
       "      <td>0</td>\n",
       "    </tr>\n",
       "    <tr>\n",
       "      <th>3</th>\n",
       "      <td>-1</td>\n",
       "      <td>171</td>\n",
       "      <td>2</td>\n",
       "      <td>3</td>\n",
       "      <td>0</td>\n",
       "      <td>0</td>\n",
       "      <td>0</td>\n",
       "      <td>0</td>\n",
       "      <td>0</td>\n",
       "      <td>-1</td>\n",
       "      <td>...</td>\n",
       "      <td>0</td>\n",
       "      <td>0</td>\n",
       "      <td>0</td>\n",
       "      <td>0</td>\n",
       "      <td>0</td>\n",
       "      <td>0</td>\n",
       "      <td>0</td>\n",
       "      <td>0</td>\n",
       "      <td>0</td>\n",
       "      <td>0</td>\n",
       "    </tr>\n",
       "    <tr>\n",
       "      <th>4</th>\n",
       "      <td>1</td>\n",
       "      <td>122</td>\n",
       "      <td>2</td>\n",
       "      <td>3</td>\n",
       "      <td>0</td>\n",
       "      <td>1</td>\n",
       "      <td>0</td>\n",
       "      <td>0</td>\n",
       "      <td>0</td>\n",
       "      <td>0</td>\n",
       "      <td>...</td>\n",
       "      <td>1</td>\n",
       "      <td>0</td>\n",
       "      <td>0</td>\n",
       "      <td>0</td>\n",
       "      <td>0</td>\n",
       "      <td>0</td>\n",
       "      <td>0</td>\n",
       "      <td>0</td>\n",
       "      <td>0</td>\n",
       "      <td>-1</td>\n",
       "    </tr>\n",
       "  </tbody>\n",
       "</table>\n",
       "<p>5 rows × 117 columns</p>\n",
       "</div>"
      ],
      "text/plain": [
       "   -1  223  2  2.1  0  0.1  0.2  0.3  0.4  0.5  ...    0.93  0.94  0.95  0.96  \\\n",
       "0   1  152  2    2  0    0    0    1    0   -1  ...       0     0     0     0   \n",
       "1   1  131  2    2  0    0    0    1    0   -1  ...       0     0     0     0   \n",
       "2   1  154  2    2  0    0    0    0    0    0  ...      -1     0     0     0   \n",
       "3  -1  171  2    3  0    0    0    0    0   -1  ...       0     0     0     0   \n",
       "4   1  122  2    3  0    1    0    0    0    0  ...       1     0     0     0   \n",
       "\n",
       "   0.97  0.98  0.99  0.100  0.101  0.102  \n",
       "0     0     0     0      0      0      0  \n",
       "1     0     0     0      0      0      0  \n",
       "2     0     0     0      0      0      0  \n",
       "3     0     0     0      0      0      0  \n",
       "4     0     0     0      0      0     -1  \n",
       "\n",
       "[5 rows x 117 columns]"
      ]
     },
     "execution_count": 2,
     "metadata": {},
     "output_type": "execute_result"
    }
   ],
   "source": [
    "train_data.head()"
   ]
  },
  {
   "cell_type": "markdown",
   "metadata": {},
   "source": [
    "# Preprocessing\n",
    "## rename the feature\n",
    "* 將每個feature name清楚標示\n",
    "* 將hero編號，100~212"
   ]
  },
  {
   "cell_type": "code",
   "execution_count": 3,
   "metadata": {
    "scrolled": true
   },
   "outputs": [
    {
     "data": {
      "text/html": [
       "<div>\n",
       "<style scoped>\n",
       "    .dataframe tbody tr th:only-of-type {\n",
       "        vertical-align: middle;\n",
       "    }\n",
       "\n",
       "    .dataframe tbody tr th {\n",
       "        vertical-align: top;\n",
       "    }\n",
       "\n",
       "    .dataframe thead th {\n",
       "        text-align: right;\n",
       "    }\n",
       "</style>\n",
       "<table border=\"1\" class=\"dataframe\">\n",
       "  <thead>\n",
       "    <tr style=\"text-align: right;\">\n",
       "      <th></th>\n",
       "      <th>win_team</th>\n",
       "      <th>Cluster ID</th>\n",
       "      <th>Game mode</th>\n",
       "      <th>Game type</th>\n",
       "      <th>100</th>\n",
       "      <th>101</th>\n",
       "      <th>102</th>\n",
       "      <th>103</th>\n",
       "      <th>104</th>\n",
       "      <th>105</th>\n",
       "      <th>...</th>\n",
       "      <th>203</th>\n",
       "      <th>204</th>\n",
       "      <th>205</th>\n",
       "      <th>206</th>\n",
       "      <th>207</th>\n",
       "      <th>208</th>\n",
       "      <th>209</th>\n",
       "      <th>210</th>\n",
       "      <th>211</th>\n",
       "      <th>212</th>\n",
       "    </tr>\n",
       "  </thead>\n",
       "  <tbody>\n",
       "    <tr>\n",
       "      <th>0</th>\n",
       "      <td>1</td>\n",
       "      <td>152</td>\n",
       "      <td>2</td>\n",
       "      <td>2</td>\n",
       "      <td>0</td>\n",
       "      <td>0</td>\n",
       "      <td>0</td>\n",
       "      <td>1</td>\n",
       "      <td>0</td>\n",
       "      <td>-1</td>\n",
       "      <td>...</td>\n",
       "      <td>0</td>\n",
       "      <td>0</td>\n",
       "      <td>0</td>\n",
       "      <td>0</td>\n",
       "      <td>0</td>\n",
       "      <td>0</td>\n",
       "      <td>0</td>\n",
       "      <td>0</td>\n",
       "      <td>0</td>\n",
       "      <td>0</td>\n",
       "    </tr>\n",
       "    <tr>\n",
       "      <th>1</th>\n",
       "      <td>1</td>\n",
       "      <td>131</td>\n",
       "      <td>2</td>\n",
       "      <td>2</td>\n",
       "      <td>0</td>\n",
       "      <td>0</td>\n",
       "      <td>0</td>\n",
       "      <td>1</td>\n",
       "      <td>0</td>\n",
       "      <td>-1</td>\n",
       "      <td>...</td>\n",
       "      <td>0</td>\n",
       "      <td>0</td>\n",
       "      <td>0</td>\n",
       "      <td>0</td>\n",
       "      <td>0</td>\n",
       "      <td>0</td>\n",
       "      <td>0</td>\n",
       "      <td>0</td>\n",
       "      <td>0</td>\n",
       "      <td>0</td>\n",
       "    </tr>\n",
       "    <tr>\n",
       "      <th>2</th>\n",
       "      <td>1</td>\n",
       "      <td>154</td>\n",
       "      <td>2</td>\n",
       "      <td>2</td>\n",
       "      <td>0</td>\n",
       "      <td>0</td>\n",
       "      <td>0</td>\n",
       "      <td>0</td>\n",
       "      <td>0</td>\n",
       "      <td>0</td>\n",
       "      <td>...</td>\n",
       "      <td>-1</td>\n",
       "      <td>0</td>\n",
       "      <td>0</td>\n",
       "      <td>0</td>\n",
       "      <td>0</td>\n",
       "      <td>0</td>\n",
       "      <td>0</td>\n",
       "      <td>0</td>\n",
       "      <td>0</td>\n",
       "      <td>0</td>\n",
       "    </tr>\n",
       "    <tr>\n",
       "      <th>3</th>\n",
       "      <td>-1</td>\n",
       "      <td>171</td>\n",
       "      <td>2</td>\n",
       "      <td>3</td>\n",
       "      <td>0</td>\n",
       "      <td>0</td>\n",
       "      <td>0</td>\n",
       "      <td>0</td>\n",
       "      <td>0</td>\n",
       "      <td>-1</td>\n",
       "      <td>...</td>\n",
       "      <td>0</td>\n",
       "      <td>0</td>\n",
       "      <td>0</td>\n",
       "      <td>0</td>\n",
       "      <td>0</td>\n",
       "      <td>0</td>\n",
       "      <td>0</td>\n",
       "      <td>0</td>\n",
       "      <td>0</td>\n",
       "      <td>0</td>\n",
       "    </tr>\n",
       "    <tr>\n",
       "      <th>4</th>\n",
       "      <td>1</td>\n",
       "      <td>122</td>\n",
       "      <td>2</td>\n",
       "      <td>3</td>\n",
       "      <td>0</td>\n",
       "      <td>1</td>\n",
       "      <td>0</td>\n",
       "      <td>0</td>\n",
       "      <td>0</td>\n",
       "      <td>0</td>\n",
       "      <td>...</td>\n",
       "      <td>1</td>\n",
       "      <td>0</td>\n",
       "      <td>0</td>\n",
       "      <td>0</td>\n",
       "      <td>0</td>\n",
       "      <td>0</td>\n",
       "      <td>0</td>\n",
       "      <td>0</td>\n",
       "      <td>0</td>\n",
       "      <td>-1</td>\n",
       "    </tr>\n",
       "    <tr>\n",
       "      <th>5</th>\n",
       "      <td>1</td>\n",
       "      <td>224</td>\n",
       "      <td>8</td>\n",
       "      <td>3</td>\n",
       "      <td>0</td>\n",
       "      <td>0</td>\n",
       "      <td>0</td>\n",
       "      <td>0</td>\n",
       "      <td>0</td>\n",
       "      <td>0</td>\n",
       "      <td>...</td>\n",
       "      <td>0</td>\n",
       "      <td>0</td>\n",
       "      <td>0</td>\n",
       "      <td>0</td>\n",
       "      <td>0</td>\n",
       "      <td>0</td>\n",
       "      <td>0</td>\n",
       "      <td>0</td>\n",
       "      <td>0</td>\n",
       "      <td>0</td>\n",
       "    </tr>\n",
       "    <tr>\n",
       "      <th>6</th>\n",
       "      <td>-1</td>\n",
       "      <td>227</td>\n",
       "      <td>8</td>\n",
       "      <td>3</td>\n",
       "      <td>0</td>\n",
       "      <td>-1</td>\n",
       "      <td>0</td>\n",
       "      <td>0</td>\n",
       "      <td>0</td>\n",
       "      <td>0</td>\n",
       "      <td>...</td>\n",
       "      <td>0</td>\n",
       "      <td>0</td>\n",
       "      <td>0</td>\n",
       "      <td>0</td>\n",
       "      <td>0</td>\n",
       "      <td>0</td>\n",
       "      <td>0</td>\n",
       "      <td>0</td>\n",
       "      <td>0</td>\n",
       "      <td>0</td>\n",
       "    </tr>\n",
       "    <tr>\n",
       "      <th>7</th>\n",
       "      <td>-1</td>\n",
       "      <td>111</td>\n",
       "      <td>2</td>\n",
       "      <td>3</td>\n",
       "      <td>0</td>\n",
       "      <td>0</td>\n",
       "      <td>1</td>\n",
       "      <td>0</td>\n",
       "      <td>0</td>\n",
       "      <td>0</td>\n",
       "      <td>...</td>\n",
       "      <td>0</td>\n",
       "      <td>1</td>\n",
       "      <td>0</td>\n",
       "      <td>0</td>\n",
       "      <td>0</td>\n",
       "      <td>0</td>\n",
       "      <td>0</td>\n",
       "      <td>0</td>\n",
       "      <td>0</td>\n",
       "      <td>0</td>\n",
       "    </tr>\n",
       "    <tr>\n",
       "      <th>8</th>\n",
       "      <td>-1</td>\n",
       "      <td>151</td>\n",
       "      <td>2</td>\n",
       "      <td>2</td>\n",
       "      <td>0</td>\n",
       "      <td>0</td>\n",
       "      <td>0</td>\n",
       "      <td>1</td>\n",
       "      <td>0</td>\n",
       "      <td>0</td>\n",
       "      <td>...</td>\n",
       "      <td>0</td>\n",
       "      <td>0</td>\n",
       "      <td>1</td>\n",
       "      <td>0</td>\n",
       "      <td>0</td>\n",
       "      <td>0</td>\n",
       "      <td>0</td>\n",
       "      <td>0</td>\n",
       "      <td>0</td>\n",
       "      <td>0</td>\n",
       "    </tr>\n",
       "    <tr>\n",
       "      <th>9</th>\n",
       "      <td>1</td>\n",
       "      <td>145</td>\n",
       "      <td>2</td>\n",
       "      <td>3</td>\n",
       "      <td>0</td>\n",
       "      <td>1</td>\n",
       "      <td>0</td>\n",
       "      <td>0</td>\n",
       "      <td>1</td>\n",
       "      <td>1</td>\n",
       "      <td>...</td>\n",
       "      <td>1</td>\n",
       "      <td>0</td>\n",
       "      <td>0</td>\n",
       "      <td>0</td>\n",
       "      <td>0</td>\n",
       "      <td>0</td>\n",
       "      <td>0</td>\n",
       "      <td>0</td>\n",
       "      <td>0</td>\n",
       "      <td>0</td>\n",
       "    </tr>\n",
       "  </tbody>\n",
       "</table>\n",
       "<p>10 rows × 117 columns</p>\n",
       "</div>"
      ],
      "text/plain": [
       "   win_team  Cluster ID  Game mode  Game type  100  101  102  103  104  105  \\\n",
       "0         1         152          2          2    0    0    0    1    0   -1   \n",
       "1         1         131          2          2    0    0    0    1    0   -1   \n",
       "2         1         154          2          2    0    0    0    0    0    0   \n",
       "3        -1         171          2          3    0    0    0    0    0   -1   \n",
       "4         1         122          2          3    0    1    0    0    0    0   \n",
       "5         1         224          8          3    0    0    0    0    0    0   \n",
       "6        -1         227          8          3    0   -1    0    0    0    0   \n",
       "7        -1         111          2          3    0    0    1    0    0    0   \n",
       "8        -1         151          2          2    0    0    0    1    0    0   \n",
       "9         1         145          2          3    0    1    0    0    1    1   \n",
       "\n",
       "  ...   203  204  205  206  207  208  209  210  211  212  \n",
       "0 ...     0    0    0    0    0    0    0    0    0    0  \n",
       "1 ...     0    0    0    0    0    0    0    0    0    0  \n",
       "2 ...    -1    0    0    0    0    0    0    0    0    0  \n",
       "3 ...     0    0    0    0    0    0    0    0    0    0  \n",
       "4 ...     1    0    0    0    0    0    0    0    0   -1  \n",
       "5 ...     0    0    0    0    0    0    0    0    0    0  \n",
       "6 ...     0    0    0    0    0    0    0    0    0    0  \n",
       "7 ...     0    1    0    0    0    0    0    0    0    0  \n",
       "8 ...     0    0    1    0    0    0    0    0    0    0  \n",
       "9 ...     1    0    0    0    0    0    0    0    0    0  \n",
       "\n",
       "[10 rows x 117 columns]"
      ]
     },
     "execution_count": 3,
     "metadata": {},
     "output_type": "execute_result"
    }
   ],
   "source": [
    "train_data = train_data.rename({'-1':'win_team', '223':'Cluster ID', '2':'Game mode', '2.1':'Game type'}, axis = 'columns')\n",
    "\n",
    "i = 100\n",
    "for t in train_data.columns[4:117]:\n",
    "    train_data = train_data.rename({t:str(i)}, axis = 'columns')\n",
    "    i = i + 1\n",
    "    \n",
    "train_data.head(10)"
   ]
  },
  {
   "cell_type": "markdown",
   "metadata": {},
   "source": [
    "## reset Cluster ID\n",
    "* 把同樣地區的代號歸類\n"
   ]
  },
  {
   "cell_type": "code",
   "execution_count": 4,
   "metadata": {},
   "outputs": [
    {
     "name": "stdout",
     "output_type": "stream",
     "text": [
      "4     40843\n",
      "5     25596\n",
      "7      8982\n",
      "2      5442\n",
      "1      2703\n",
      "3      2444\n",
      "8      1751\n",
      "0      1642\n",
      "9      1463\n",
      "6      1122\n",
      "13      262\n",
      "12      154\n",
      "11      127\n",
      "10      118\n",
      "Name: Cluster ID, dtype: int64\n"
     ]
    }
   ],
   "source": [
    "for i in range(0, 92649):\n",
    "    t = train_data['Cluster ID'][i]\n",
    "    if t == 111 or t == 112 or t == 113 or t == 114:\n",
    "        # US west\n",
    "        train_data['Cluster ID'][i] = 0\n",
    "    elif t == 121 or t == 122 or t == 123 or t == 124:\n",
    "        # US east\n",
    "        train_data['Cluster ID'][i] = 1\n",
    "    elif t == 131 or t == 132 or t == 133 or t == 134 or t == 135 or t == 136 or t == 137 or t == 138:\n",
    "        # Europe West\n",
    "        train_data['Cluster ID'][i] = 2\n",
    "    elif t == 142 or t == 143 or t == 144 or t == 145:\n",
    "        # South Korea\n",
    "        train_data['Cluster ID'][i] = 3\n",
    "    elif t == 151 or t == 152 or t == 153 or t == 154 or t == 155 or t == 156:\n",
    "        # Southest Asia\n",
    "        train_data['Cluster ID'][i] = 4\n",
    "    elif t == 161 or t == 163 or t == 221 or t == 222 or t == 223 or t == 224 or t == 225 or t == 227 or t == 231 or t == 232:\n",
    "        # China\n",
    "        train_data['Cluster ID'][i] = 5\n",
    "    elif t == 171:\n",
    "        # Australia\n",
    "        train_data['Cluster ID'][i] = 6\n",
    "    elif t == 181 or t == 182 or t == 183 or t == 184 or t == 185 or t == 186 or t == 187 or t == 188:\n",
    "        # Russia\n",
    "        train_data['Cluster ID'][i] = 7\n",
    "    elif t == 191 or t == 192:\n",
    "        # Europe East\n",
    "        train_data['Cluster ID'][i] = 8\n",
    "    elif t == 200 or t == 202 or t == 203 or t == 204:\n",
    "        # South America\n",
    "        train_data['Cluster ID'][i] = 9\n",
    "    elif t == 211 or t == 212 or t == 213:\n",
    "        # South Africa\n",
    "        train_data['Cluster ID'][i] = 10\n",
    "    elif t == 241 or t == 242:\n",
    "        # Chile\n",
    "        train_data['Cluster ID'][i] = 11\n",
    "    elif t == 251:\n",
    "        # Peru\n",
    "        train_data['Cluster ID'][i] = 12\n",
    "    elif t == 261:\n",
    "        # India\n",
    "        train_data['Cluster ID'][i] = 13\n",
    "        \n",
    "print(train_data['Cluster ID'].value_counts())"
   ]
  },
  {
   "cell_type": "markdown",
   "metadata": {},
   "source": [
    "# Feature Analysis\n",
    "## 玩家人數分佈\n",
    "* southest asia玩家為最大宗，china次之"
   ]
  },
  {
   "cell_type": "code",
   "execution_count": 5,
   "metadata": {
    "scrolled": true
   },
   "outputs": [
    {
     "data": {
      "text/plain": [
       "<Figure size 640x480 with 1 Axes>"
      ]
     },
     "metadata": {},
     "output_type": "display_data"
    }
   ],
   "source": [
    "import matplotlib.pyplot as plt\n",
    "plt.pie(train_data['Cluster ID'].value_counts(), autopct='%1.2f%%', radius = 2)\n",
    "label = ['Southest Asia', 'china', 'Russia', 'Europe West', 'US east', 'South Korea', 'Europe East', 'US west', 'South America', 'Australia', 'India', 'Peru', 'Chile', 'South Africa']\n",
    "plt.legend(label, fontsize = 10, bbox_to_anchor = (1, 0.5))\n",
    "plt.show()"
   ]
  },
  {
   "cell_type": "markdown",
   "metadata": {},
   "source": [
    "## 兩隊勝率\n",
    "* 此資料集取了9萬多場比賽的數據，照理說兩隊勝率該要趨近50%，但位於下方的隊伍明顯勝率更高一些？\n",
    "    * 探討後發現，因為dota遊戲的界面在下面，因此人物在下方的隊伍可以同時獲得更多資訊\n",
    "    * 另一個說法是視角問題，玩家顯示器顯示的是地圖上的一個梯形，導致螢幕下方訊息量較多，上方較少"
   ]
  },
  {
   "cell_type": "code",
   "execution_count": 6,
   "metadata": {},
   "outputs": [
    {
     "data": {
      "image/png": "[encoded data removed]",
      "text/plain": [
       "<Figure size 432x288 with 1 Axes>"
      ]
     },
     "metadata": {},
     "output_type": "display_data"
    }
   ],
   "source": [
    "x = train_data['win_team'].value_counts()[1]\n",
    "y = train_data['win_team'].value_counts()[-1]\n",
    "\n",
    "label = ['team 1', 'team -1']\n",
    "plt.pie([x, y], autopct='%1.3f%%', textprops = {'fontsize':15})\n",
    "plt.axis('equal')\n",
    "plt.legend(label, fontsize = '18')\n",
    "plt.title(\"each team's win rate\", fontsize = '25')\n",
    "plt.show()"
   ]
  },
  {
   "cell_type": "markdown",
   "metadata": {},
   "source": [
    "## game mode analysis\n",
    "* 最熱門的遊戲模式為編號2的Captains Mode，編號8和9的Reverse Captains Mode和Greeviling也有部份場次，其餘皆很少"
   ]
  },
  {
   "cell_type": "code",
   "execution_count": 7,
   "metadata": {},
   "outputs": [
    {
     "data": {
      "image/png": "[encoded data removed]",
      "text/plain": [
       "<Figure size 432x288 with 1 Axes>"
      ]
     },
     "metadata": {
      "needs_background": "light"
     },
     "output_type": "display_data"
    }
   ],
   "source": [
    "x = train_data['Game mode'].value_counts().index\n",
    "y = train_data['Game mode'].value_counts().values\n",
    "\n",
    "plt.bar(x, y)\n",
    "plt.xticks(x)\n",
    "plt.xlabel('Game mode')\n",
    "plt.ylabel('times')\n",
    "plt.show()"
   ]
  },
  {
   "cell_type": "markdown",
   "metadata": {},
   "source": [
    "## game type analysis"
   ]
  },
  {
   "cell_type": "code",
   "execution_count": 8,
   "metadata": {},
   "outputs": [
    {
     "data": {
      "text/plain": [
       "2    56987\n",
       "3    35647\n",
       "1       15\n",
       "Name: Game type, dtype: int64"
      ]
     },
     "execution_count": 8,
     "metadata": {},
     "output_type": "execute_result"
    }
   ],
   "source": [
    "train_data['Game type'].value_counts()"
   ]
  },
  {
   "cell_type": "markdown",
   "metadata": {},
   "source": [
    "## 找出勝率最高和最低的5個英雄\n",
    "* 最高勝率為編號152的英雄，有55.5%，次之為編號190，有52.9%\n",
    "* 最低勝率為編號191的英雄，為48.2%"
   ]
  },
  {
   "cell_type": "code",
   "execution_count": 9,
   "metadata": {},
   "outputs": [
    {
     "name": "stdout",
     "output_type": "stream",
     "text": [
      "top-5 max win rate heroes\n",
      "number: 152    win rate: 55.67 %\n",
      "number: 190    win rate: 52.76 %\n",
      "number: 212    win rate: 52.32 %\n",
      "number: 165    win rate: 51.90 %\n",
      "number: 188    win rate: 51.40 %\n",
      "\n",
      "\n",
      "top-5 least win rate heroes\n",
      "number: 191    win rate: 48.20 %\n",
      "number: 142    win rate: 48.60 %\n",
      "number: 150    win rate: 48.81 %\n",
      "number: 198    win rate: 48.85 %\n",
      "number: 204    win rate: 48.88 %\n"
     ]
    }
   ],
   "source": [
    "import collections\n",
    "l1 = [i for i in range(100, 213)]\n",
    "l2 = [0 for i in range(100, 213)]\n",
    "win_rate = dict(zip(l1, l2))\n",
    "for i in train_data.columns[4:117]:\n",
    "    if train_data[i].value_counts().size != 1:\n",
    "        r = train_data[i].value_counts()[1] / (train_data[i].value_counts()[1] + train_data[i].value_counts()[-1])\n",
    "        win_rate[int(i)] = r\n",
    "\n",
    "srt_win_rate = sorted(win_rate.items(), key=lambda kv: kv[1], reverse = True)\n",
    "\n",
    "print(\"top-5 max win rate heroes\")\n",
    "for i in range(0, 5):\n",
    "    print(\"number: %d    win rate: %.2f %%\" % (srt_win_rate[i][0], srt_win_rate[i][1]*100))\n",
    "\n",
    "print('\\n')    \n",
    "srt_win_rate = sorted(win_rate.items(), key=lambda kv: kv[1])\n",
    "\n",
    "print(\"top-5 least win rate heroes\")\n",
    "for i in range(2, 7):\n",
    "    print(\"number: %d    win rate: %.2f %%\" % (srt_win_rate[i][0], srt_win_rate[i][1]*100))"
   ]
  },
  {
   "cell_type": "markdown",
   "metadata": {},
   "source": [
    "## Drop useless feature(preprocessing)"
   ]
  },
  {
   "cell_type": "code",
   "execution_count": 33,
   "metadata": {},
   "outputs": [
    {
     "data": {
      "text/plain": [
       "[(123, 0),\n",
       " (207, 0),\n",
       " (191, 0.481981981981982),\n",
       " (142, 0.485978968452679),\n",
       " (150, 0.48813472824700177)]"
      ]
     },
     "execution_count": 33,
     "metadata": {},
     "output_type": "execute_result"
    }
   ],
   "source": [
    "srt_win_rate = sorted(win_rate.items(), key=lambda kv: kv[1])\n",
    "srt_win_rate[0:5]"
   ]
  },
  {
   "cell_type": "markdown",
   "metadata": {},
   "source": [
    "## Create x_train, y_train, x_test and y_test\n",
    "* 取前70000筆當作train set剩餘當作test set\n",
    "* 去掉沒有被選用到的hero"
   ]
  },
  {
   "cell_type": "code",
   "execution_count": 11,
   "metadata": {},
   "outputs": [],
   "source": [
    "train_data = train_data.drop(['123', '207'], axis = 1)"
   ]
  },
  {
   "cell_type": "code",
   "execution_count": 12,
   "metadata": {},
   "outputs": [],
   "source": [
    "train = train_data[:70000]\n",
    "test = train_data[70000:]"
   ]
  },
  {
   "cell_type": "code",
   "execution_count": 13,
   "metadata": {},
   "outputs": [
    {
     "name": "stdout",
     "output_type": "stream",
     "text": [
      "   Cluster ID  Game mode  Game type  100  101  102  103  104  105  106 ...   \\\n",
      "0           4          2          2    0    0    0    1    0   -1    0 ...    \n",
      "1           2          2          2    0    0    0    1    0   -1    0 ...    \n",
      "2           4          2          2    0    0    0    0    0    0   -1 ...    \n",
      "3           6          2          3    0    0    0    0    0   -1    0 ...    \n",
      "4           1          2          3    0    1    0    0    0    0    0 ...    \n",
      "\n",
      "   202  203  204  205  206  208  209  210  211  212  \n",
      "0    0    0    0    0    0    0    0    0    0    0  \n",
      "1    0    0    0    0    0    0    0    0    0    0  \n",
      "2    0   -1    0    0    0    0    0    0    0    0  \n",
      "3    0    0    0    0    0    0    0    0    0    0  \n",
      "4    0    1    0    0    0    0    0    0    0   -1  \n",
      "\n",
      "[5 rows x 114 columns]\n",
      "0    1\n",
      "1    1\n",
      "2    1\n",
      "3   -1\n",
      "4    1\n",
      "Name: win_team, dtype: int64\n"
     ]
    }
   ],
   "source": [
    "y_train = train['win_team']\n",
    "x_train = train.drop('win_team', axis = 1)\n",
    "y_test = test['win_team']\n",
    "x_test = test.drop('win_team', axis = 1)\n",
    "print(x_train.head())\n",
    "print(y_train.head())"
   ]
  },
  {
   "cell_type": "markdown",
   "metadata": {},
   "source": [
    "# Problem:  Predict winning and losing\n",
    "* use only chosen heroes to predict\n",
    "\n",
    "## Decision Tree\n",
    "* default depth"
   ]
  },
  {
   "cell_type": "code",
   "execution_count": 14,
   "metadata": {},
   "outputs": [
    {
     "name": "stdout",
     "output_type": "stream",
     "text": [
      "accuracy score: 52.62 %\n"
     ]
    }
   ],
   "source": [
    "from sklearn.tree import DecisionTreeClassifier\n",
    "from sklearn.externals.six import StringIO   \n",
    "from sklearn.tree import export_graphviz\n",
    "from sklearn.metrics import accuracy_score\n",
    "import pydotplus\n",
    "\n",
    "dtree = DecisionTreeClassifier()\n",
    "dtree.fit(x_train, y_train)\n",
    "\n",
    "predict = dtree.predict(x_test)\n",
    "s = accuracy_score(y_test, predict)\n",
    "print(\"accuracy score: %.2f %%\" % (s*100))"
   ]
  },
  {
   "cell_type": "markdown",
   "metadata": {},
   "source": [
    "* depth = 4\n",
    "![](https://i.imgur.com/QvngU6e.png)\n"
   ]
  },
  {
   "cell_type": "code",
   "execution_count": 15,
   "metadata": {},
   "outputs": [
    {
     "name": "stdout",
     "output_type": "stream",
     "text": [
      "accuracy score: 53.94 %\n"
     ]
    }
   ],
   "source": [
    "dtree = DecisionTreeClassifier(max_depth = 4)\n",
    "dtree.fit(x_train, y_train)\n",
    "\n",
    "dot_data = StringIO()\n",
    "export_graphviz(dtree, \n",
    "                out_file = dot_data,  \n",
    "                filled = True, \n",
    "                feature_names = list(x_train),\n",
    "                class_names = ['win', 'lose'],\n",
    "                special_characters = True)\n",
    "\n",
    "graph = pydotplus.graph_from_dot_data(dot_data.getvalue())  \n",
    "graph.write_pdf(\"tree.pdf\")\n",
    "\n",
    "predict = dtree.predict(x_test)\n",
    "s = accuracy_score(y_test, predict)\n",
    "print(\"accuracy score: %.2f %%\" % (s*100))"
   ]
  },
  {
   "cell_type": "markdown",
   "metadata": {},
   "source": [
    "* depth = 5\n",
    "* find that when depth increase, accuracy score also increase"
   ]
  },
  {
   "cell_type": "code",
   "execution_count": 16,
   "metadata": {},
   "outputs": [
    {
     "name": "stdout",
     "output_type": "stream",
     "text": [
      "accuracy score: 54.91 %\n"
     ]
    }
   ],
   "source": [
    "dtree = DecisionTreeClassifier(max_depth = 6)\n",
    "dtree.fit(x_train, y_train)\n",
    "\n",
    "predict = dtree.predict(x_test)\n",
    "s = accuracy_score(y_test, predict)\n",
    "print(\"accuracy score: %.2f %%\" % (s*100))"
   ]
  },
  {
   "cell_type": "markdown",
   "metadata": {},
   "source": [
    "* depth = 8"
   ]
  },
  {
   "cell_type": "code",
   "execution_count": 17,
   "metadata": {},
   "outputs": [
    {
     "name": "stdout",
     "output_type": "stream",
     "text": [
      "accuracy score: 55.00 %\n"
     ]
    }
   ],
   "source": [
    "dtree = DecisionTreeClassifier(max_depth = 10)\n",
    "dtree.fit(x_train, y_train)\n",
    "\n",
    "predict = dtree.predict(x_test)\n",
    "s = accuracy_score(y_test, predict)\n",
    "print(\"accuracy score: %.2f %%\" % (s*100))"
   ]
  },
  {
   "cell_type": "markdown",
   "metadata": {},
   "source": [
    "* depth = 10\n",
    "* After I tried many depth number, I found that the maximum score is about **55.2%**\n",
    "* 繼續增加深度會導致 **Overfitting**\n",
    "\n",
    "\n",
    "### 把splitter改為random試試看（預設為best）\n",
    "* 結果差不多，因為random的關係準確率在55%~55.5%浮動\n"
   ]
  },
  {
   "cell_type": "code",
   "execution_count": 18,
   "metadata": {},
   "outputs": [
    {
     "name": "stdout",
     "output_type": "stream",
     "text": [
      "accuracy score: 55.35 %\n"
     ]
    }
   ],
   "source": [
    "dtree = DecisionTreeClassifier(max_depth = 10, splitter = 'random')\n",
    "dtree.fit(x_train, y_train)\n",
    "\n",
    "predict = dtree.predict(x_test)\n",
    "s = accuracy_score(y_test, predict)\n",
    "print(\"accuracy score: %.2f %%\" % (s*100))"
   ]
  },
  {
   "cell_type": "markdown",
   "metadata": {},
   "source": [
    "## Logistic Regression\n",
    "* 全用default設定，準確率有60.43%，意外的高"
   ]
  },
  {
   "cell_type": "code",
   "execution_count": 19,
   "metadata": {},
   "outputs": [
    {
     "name": "stdout",
     "output_type": "stream",
     "text": [
      "accuracy score: 60.43 %\n"
     ]
    }
   ],
   "source": [
    "from sklearn.linear_model import LogisticRegression\n",
    "\n",
    "LR = LogisticRegression()\n",
    "LR.fit(x_train, y_train)\n",
    "\n",
    "result = LR.predict(x_test)\n",
    "s = accuracy_score(y_test, result)\n",
    "print(\"accuracy score: %.2f %%\" % (s*100))"
   ]
  },
  {
   "cell_type": "markdown",
   "metadata": {},
   "source": [
    "* 改變penalty（預設為l2）"
   ]
  },
  {
   "cell_type": "code",
   "execution_count": 20,
   "metadata": {},
   "outputs": [
    {
     "name": "stdout",
     "output_type": "stream",
     "text": [
      "accuracy score: 60.45 %\n"
     ]
    }
   ],
   "source": [
    "LR = LogisticRegression(penalty = 'l1')\n",
    "LR.fit(x_train, y_train)\n",
    "\n",
    "result = LR.predict(x_test)\n",
    "s = accuracy_score(y_test, result)\n",
    "print(\"accuracy score: %.2f %%\" % (s*100))"
   ]
  },
  {
   "cell_type": "markdown",
   "metadata": {},
   "source": [
    "* 拿掉可能無關的feature\n",
    "    * Cluster ID, game mode, game mode\n",
    "* 出乎意料的降低了"
   ]
  },
  {
   "cell_type": "code",
   "execution_count": 21,
   "metadata": {},
   "outputs": [
    {
     "name": "stdout",
     "output_type": "stream",
     "text": [
      "accuracy score: 60.39 %\n"
     ]
    }
   ],
   "source": [
    "LR = LogisticRegression()\n",
    "LR.fit(x_train.drop(['Cluster ID', 'Game mode', 'Game type'], axis = 1), y_train)\n",
    "\n",
    "result = LR.predict(x_test.drop(['Cluster ID', 'Game mode', 'Game type'], axis = 1))\n",
    "s = accuracy_score(y_test, result)\n",
    "print(\"accuracy score: %.2f %%\" % (s*100))"
   ]
  },
  {
   "cell_type": "markdown",
   "metadata": {},
   "source": [
    "* 再試試看改變penalty"
   ]
  },
  {
   "cell_type": "code",
   "execution_count": 22,
   "metadata": {},
   "outputs": [
    {
     "name": "stdout",
     "output_type": "stream",
     "text": [
      "accuracy score: 60.37 %\n"
     ]
    }
   ],
   "source": [
    "LR = LogisticRegression(penalty = 'l1')\n",
    "LR.fit(x_train.drop(['Cluster ID', 'Game mode', 'Game type'], axis = 1), y_train)\n",
    "\n",
    "result = LR.predict(x_test.drop(['Cluster ID', 'Game mode', 'Game type'], axis = 1))\n",
    "s = accuracy_score(y_test, result)\n",
    "print(\"accuracy score: %.2f %%\" % (s*100))"
   ]
  },
  {
   "cell_type": "markdown",
   "metadata": {},
   "source": [
    "## NN"
   ]
  },
  {
   "cell_type": "markdown",
   "metadata": {},
   "source": [
    "* 將result改為1和0"
   ]
  },
  {
   "cell_type": "code",
   "execution_count": 23,
   "metadata": {},
   "outputs": [],
   "source": [
    "MMap = {1:1, -1:0}\n",
    "y_train = y_train.map(MMap)\n",
    "y_test = y_test.map(MMap)"
   ]
  },
  {
   "cell_type": "markdown",
   "metadata": {},
   "source": [
    "* 準確率為59.4%"
   ]
  },
  {
   "cell_type": "code",
   "execution_count": 24,
   "metadata": {},
   "outputs": [
    {
     "name": "stderr",
     "output_type": "stream",
     "text": [
      "Using TensorFlow backend.\n"
     ]
    }
   ],
   "source": [
    "from keras import models, layers, optimizers, regularizers\n",
    "\n",
    "hidden_units = 10\n",
    "activation = 'relu'\n",
    "l2 = 0.001\n",
    "learning_rate = 0.01\n",
    "epochs = 10\n",
    "batch_size = 32"
   ]
  },
  {
   "cell_type": "code",
   "execution_count": 25,
   "metadata": {},
   "outputs": [
    {
     "name": "stdout",
     "output_type": "stream",
     "text": [
      "WARNING:tensorflow:From /home/wayne/anaconda3/lib/python3.7/site-packages/tensorflow/python/framework/op_def_library.py:263: colocate_with (from tensorflow.python.framework.ops) is deprecated and will be removed in a future version.\n",
      "Instructions for updating:\n",
      "Colocations handled automatically by placer.\n"
     ]
    }
   ],
   "source": [
    "model = models.Sequential()\n",
    "\n",
    "#hidden layer\n",
    "model.add(layers.Dense(input_dim = 114, units = 128, activation='relu'))\n",
    "\n",
    "#output layer\n",
    "model.add(layers.Dense(input_dim = 128, units = 1, activation='sigmoid'))\n",
    "\n",
    "#loss function and optimizer\n",
    "model.compile(loss='binary_crossentropy',\n",
    "              optimizer=optimizers.Adam(lr=learning_rate),\n",
    "              metrics=['accuracy'])"
   ]
  },
  {
   "cell_type": "code",
   "execution_count": 26,
   "metadata": {},
   "outputs": [
    {
     "name": "stdout",
     "output_type": "stream",
     "text": [
      "WARNING:tensorflow:From /home/wayne/anaconda3/lib/python3.7/site-packages/tensorflow/python/ops/math_ops.py:3066: to_int32 (from tensorflow.python.ops.math_ops) is deprecated and will be removed in a future version.\n",
      "Instructions for updating:\n",
      "Use tf.cast instead.\n",
      "Epoch 1/10\n",
      "70000/70000 [==============================] - 6s 88us/step - loss: 0.6737 - acc: 0.5832\n",
      "Epoch 2/10\n",
      "70000/70000 [==============================] - 6s 89us/step - loss: 0.6687 - acc: 0.5943\n",
      "Epoch 3/10\n",
      "70000/70000 [==============================] - 6s 91us/step - loss: 0.6665 - acc: 0.5948\n",
      "Epoch 4/10\n",
      "70000/70000 [==============================] - 6s 90us/step - loss: 0.6639 - acc: 0.5984\n",
      "Epoch 5/10\n",
      "70000/70000 [==============================] - 7s 95us/step - loss: 0.6591 - acc: 0.6029\n",
      "Epoch 6/10\n",
      "70000/70000 [==============================] - 6s 91us/step - loss: 0.6530 - acc: 0.6106\n",
      "Epoch 7/10\n",
      "70000/70000 [==============================] - 6s 92us/step - loss: 0.6456 - acc: 0.6168\n",
      "Epoch 8/10\n",
      "70000/70000 [==============================] - 6s 86us/step - loss: 0.6378 - acc: 0.6210\n",
      "Epoch 9/10\n",
      "70000/70000 [==============================] - 6s 89us/step - loss: 0.6304 - acc: 0.6266\n",
      "Epoch 10/10\n",
      "70000/70000 [==============================] - 6s 91us/step - loss: 0.6229 - acc: 0.6303\n",
      "22649/22649 [==============================] - 1s 54us/step\n",
      "Testing accuracy: 0.5922998807973339\n"
     ]
    }
   ],
   "source": [
    "# train\n",
    "history = model.fit(x_train, y_train, epochs=epochs, batch_size=batch_size)\n",
    "\n",
    "# evaluate accuracy\n",
    "test_acc = model.evaluate(x_test, y_test, batch_size=32)[1]\n",
    "print('Testing accuracy: %s' % test_acc)\n"
   ]
  },
  {
   "cell_type": "markdown",
   "metadata": {},
   "source": [
    "### 試試看拿掉一些feature\n",
    "    * Cluster ID, game mode, game mode\n",
    "    * 遺憾的是沒有增加"
   ]
  },
  {
   "cell_type": "code",
   "execution_count": 27,
   "metadata": {},
   "outputs": [],
   "source": [
    "model = models.Sequential()\n",
    "\n",
    "#hidden layer\n",
    "model.add(layers.Dense(input_dim = 111, units = 128, activation='relu'))\n",
    "\n",
    "#output layer\n",
    "model.add(layers.Dense(input_dim = 128, units = 1, activation='sigmoid'))\n",
    "\n",
    "#loss function and optimizer\n",
    "model.compile(loss='binary_crossentropy',\n",
    "              optimizer=optimizers.Adam(lr=learning_rate),\n",
    "              metrics=['accuracy'])"
   ]
  },
  {
   "cell_type": "code",
   "execution_count": 28,
   "metadata": {},
   "outputs": [
    {
     "name": "stdout",
     "output_type": "stream",
     "text": [
      "Epoch 1/10\n",
      "70000/70000 [==============================] - 7s 94us/step - loss: 0.6772 - acc: 0.5765\n",
      "Epoch 2/10\n",
      "70000/70000 [==============================] - 6s 92us/step - loss: 0.6726 - acc: 0.5846\n",
      "Epoch 3/10\n",
      "70000/70000 [==============================] - 7s 95us/step - loss: 0.6682 - acc: 0.5953\n",
      "Epoch 4/10\n",
      "70000/70000 [==============================] - 7s 98us/step - loss: 0.6638 - acc: 0.6009\n",
      "Epoch 5/10\n",
      "70000/70000 [==============================] - 7s 98us/step - loss: 0.6576 - acc: 0.6093\n",
      "Epoch 6/10\n",
      "70000/70000 [==============================] - 7s 97us/step - loss: 0.6485 - acc: 0.6209\n",
      "Epoch 7/10\n",
      "70000/70000 [==============================] - 7s 95us/step - loss: 0.6382 - acc: 0.6322\n",
      "Epoch 8/10\n",
      "70000/70000 [==============================] - 7s 96us/step - loss: 0.6265 - acc: 0.6457\n",
      "Epoch 9/10\n",
      "70000/70000 [==============================] - 7s 97us/step - loss: 0.6150 - acc: 0.6565\n",
      "Epoch 10/10\n",
      "70000/70000 [==============================] - 7s 102us/step - loss: 0.6032 - acc: 0.6691\n",
      "22649/22649 [==============================] - 1s 54us/step\n",
      "Testing accuracy: 0.5674422712082673\n"
     ]
    }
   ],
   "source": [
    "# train\n",
    "history = model.fit(x_train.drop(['Cluster ID', 'Game mode', 'Game type'], axis = 1), y_train, epochs=epochs, batch_size=batch_size)\n",
    "\n",
    "# evaluate accuracy\n",
    "test_acc = model.evaluate(x_test.drop(['Cluster ID', 'Game mode', 'Game type'], axis = 1), y_test, batch_size=32)[1]\n",
    "print('Testing accuracy: %s' % test_acc)\n"
   ]
  },
  {
   "cell_type": "markdown",
   "metadata": {},
   "source": [
    "### 多一層layer\n",
    "* 還是沒有變好＠＠"
   ]
  },
  {
   "cell_type": "code",
   "execution_count": 29,
   "metadata": {},
   "outputs": [],
   "source": [
    "model = models.Sequential()\n",
    "\n",
    "#hidden layer\n",
    "model.add(layers.Dense(input_dim = 111, units = 64, activation='relu'))\n",
    "\n",
    "model.add(layers.Dense(input_dim = 64, units = 64, activation='relu'))\n",
    "\n",
    "#output layer\n",
    "model.add(layers.Dense(input_dim = 64, units = 1, activation='sigmoid'))\n",
    "\n",
    "#loss function and optimizer\n",
    "model.compile(loss='binary_crossentropy',\n",
    "              optimizer=optimizers.Adam(lr=learning_rate),\n",
    "              metrics=['accuracy'])"
   ]
  },
  {
   "cell_type": "code",
   "execution_count": 30,
   "metadata": {},
   "outputs": [
    {
     "name": "stdout",
     "output_type": "stream",
     "text": [
      "Epoch 1/10\n",
      "70000/70000 [==============================] - 8s 118us/step - loss: 0.6730 - acc: 0.5830\n",
      "Epoch 2/10\n",
      "70000/70000 [==============================] - 7s 107us/step - loss: 0.6677 - acc: 0.5939\n",
      "Epoch 3/10\n",
      "70000/70000 [==============================] - 8s 117us/step - loss: 0.6655 - acc: 0.5968\n",
      "Epoch 4/10\n",
      "70000/70000 [==============================] - 8s 118us/step - loss: 0.6618 - acc: 0.6026\n",
      "Epoch 5/10\n",
      "70000/70000 [==============================] - 7s 104us/step - loss: 0.6579 - acc: 0.6085\n",
      "Epoch 6/10\n",
      "70000/70000 [==============================] - 9s 124us/step - loss: 0.6530 - acc: 0.6120\n",
      "Epoch 7/10\n",
      "70000/70000 [==============================] - 8s 113us/step - loss: 0.6465 - acc: 0.6169\n",
      "Epoch 8/10\n",
      "70000/70000 [==============================] - 8s 119us/step - loss: 0.6414 - acc: 0.6206\n",
      "Epoch 9/10\n",
      "70000/70000 [==============================] - 8s 121us/step - loss: 0.6372 - acc: 0.6238\n",
      "Epoch 10/10\n",
      "70000/70000 [==============================] - 9s 123us/step - loss: 0.6319 - acc: 0.6264\n",
      "22649/22649 [==============================] - 1s 63us/step\n",
      "Testing accuracy: 0.579098414948952\n"
     ]
    }
   ],
   "source": [
    "# train\n",
    "history = model.fit(x_train.drop(['Cluster ID', 'Game mode', 'Game type'], axis = 1), y_train, epochs=epochs, batch_size=batch_size)\n",
    "\n",
    "# evaluate accuracy\n",
    "test_acc = model.evaluate(x_test.drop(['Cluster ID', 'Game mode', 'Game type'], axis = 1), y_test, batch_size=32)[1]\n",
    "print('Testing accuracy: %s' % test_acc)\n"
   ]
  },
  {
   "cell_type": "markdown",
   "metadata": {},
   "source": [
    "# Summary\n",
    " * 嘗試三種model來improve我的預測結果\n",
    "\n",
    "## Decesion Tree\n",
    "* 準確率最高也來到55.5%左右，觀察後發現tree的gini值都偏高，沒辦法找到一個很好的分法\n",
    "* 調高深度也無法增加準確率，且會導致overfitting\n",
    "\n",
    "## Logistic Regression\n",
    "* 最好的值來到60.5%，是目前最好的值\n",
    "\n",
    "## NN\n",
    "* 準確率約60%\n",
    "\n",
    "## 結論\n",
    "* 三種模型都沒辦法很高準確的預測dota遊戲勝負，我猜測是因為就算是勝率最低的hero也有48%左右的勝率，所以沒辦法做到很好的classify\n",
    "* 此類遊戲勝負會趨近一半一半，且勝率最高的hero也只有55%，因此60%左右的預測準確度是可以預期的\n",
    "* 因為預測的結果只有0和1，保底有50％的準確率，但建model之後準確率卻也只來到60%，說明此資料集沒有好的規則可尋"
   ]
  }
 ],
 "metadata": {
  "kernelspec": {
   "display_name": "Python 3",
   "language": "python",
   "name": "python3"
  },
  "language_info": {
   "codemirror_mode": {
    "name": "ipython",
    "version": 3
   },
   "file_extension": ".py",
   "mimetype": "text/x-python",
   "name": "python",
   "nbconvert_exporter": "python",
   "pygments_lexer": "ipython3",
   "version": "3.7.1"
  }
 },
 "nbformat": 4,
 "nbformat_minor": 2
}
