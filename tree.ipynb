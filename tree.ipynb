{
 "cells": [
  {
   "cell_type": "markdown",
   "metadata": {},
   "source": [
    "![](https://i.imgur.com/oRgtzqR.jpg)\n",
    "# 2016 mlb reference\n",
    "    利用棒球比賽數據預測球賽主場球隊勝負\n",
    "    將約2500場比賽前2000場用來train，剩餘場次用來預測，檢查命中率\n",
    "## dataset\n",
    "[2016 MLB](https://www.kaggle.com/cyaris/2016-mlb-season)\n",
    "    "
   ]
  },
  {
   "cell_type": "code",
   "execution_count": 107,
   "metadata": {},
   "outputs": [],
   "source": [
    "import pandas as pd\n",
    "from sklearn.tree import DecisionTreeClassifier\n",
    "from sklearn.externals.six import StringIO   \n",
    "from sklearn.tree import export_graphviz\n",
    "import pydotplus\n",
    "\n",
    "path = './baseball_reference_2016_clean.csv'\n",
    "pd_data = pd.read_csv('./baseball_reference_2016_clean.csv')"
   ]
  },
  {
   "cell_type": "markdown",
   "metadata": {},
   "source": [
    "## drop unuse data\n",
    "    故意將兩隊得分也拿掉，否則長出來的樹會完全只看兩隊的得分數\n",
    "    左到右分別為：客隊失誤、客隊安打、主隊失誤、主隊安打、比賽結果"
   ]
  },
  {
   "cell_type": "code",
   "execution_count": 108,
   "metadata": {},
   "outputs": [
    {
     "data": {
      "text/html": [
       "<div>\n",
       "<style scoped>\n",
       "    .dataframe tbody tr th:only-of-type {\n",
       "        vertical-align: middle;\n",
       "    }\n",
       "\n",
       "    .dataframe tbody tr th {\n",
       "        vertical-align: top;\n",
       "    }\n",
       "\n",
       "    .dataframe thead th {\n",
       "        text-align: right;\n",
       "    }\n",
       "</style>\n",
       "<table border=\"1\" class=\"dataframe\">\n",
       "  <thead>\n",
       "    <tr style=\"text-align: right;\">\n",
       "      <th></th>\n",
       "      <th>away_team_errors</th>\n",
       "      <th>away_team_hits</th>\n",
       "      <th>home_team_errors</th>\n",
       "      <th>home_team_hits</th>\n",
       "      <th>home_team_win</th>\n",
       "    </tr>\n",
       "  </thead>\n",
       "  <tbody>\n",
       "    <tr>\n",
       "      <th>0</th>\n",
       "      <td>1</td>\n",
       "      <td>7</td>\n",
       "      <td>0</td>\n",
       "      <td>9</td>\n",
       "      <td>1</td>\n",
       "    </tr>\n",
       "    <tr>\n",
       "      <th>1</th>\n",
       "      <td>0</td>\n",
       "      <td>5</td>\n",
       "      <td>0</td>\n",
       "      <td>8</td>\n",
       "      <td>1</td>\n",
       "    </tr>\n",
       "    <tr>\n",
       "      <th>2</th>\n",
       "      <td>0</td>\n",
       "      <td>5</td>\n",
       "      <td>0</td>\n",
       "      <td>9</td>\n",
       "      <td>1</td>\n",
       "    </tr>\n",
       "    <tr>\n",
       "      <th>3</th>\n",
       "      <td>0</td>\n",
       "      <td>8</td>\n",
       "      <td>1</td>\n",
       "      <td>8</td>\n",
       "      <td>0</td>\n",
       "    </tr>\n",
       "    <tr>\n",
       "      <th>4</th>\n",
       "      <td>1</td>\n",
       "      <td>8</td>\n",
       "      <td>0</td>\n",
       "      <td>8</td>\n",
       "      <td>0</td>\n",
       "    </tr>\n",
       "  </tbody>\n",
       "</table>\n",
       "</div>"
      ],
      "text/plain": [
       "   away_team_errors  away_team_hits  home_team_errors  home_team_hits  \\\n",
       "0                 1               7                 0               9   \n",
       "1                 0               5                 0               8   \n",
       "2                 0               5                 0               9   \n",
       "3                 0               8                 1               8   \n",
       "4                 1               8                 0               8   \n",
       "\n",
       "   home_team_win  \n",
       "0              1  \n",
       "1              1  \n",
       "2              1  \n",
       "3              0  \n",
       "4              0  "
      ]
     },
     "execution_count": 108,
     "metadata": {},
     "output_type": "execute_result"
    }
   ],
   "source": [
    "pd_data = pd_data.drop('Unnamed: 0', axis = 1)\n",
    "pd_data = pd_data.drop('attendance', axis = 1)\n",
    "pd_data = pd_data.drop('away_team', axis = 1)\n",
    "pd_data = pd_data.drop(['date', 'field_type', 'game_type', 'home_team'], axis = 1)\n",
    "pd_data = pd_data.drop(['start_time', 'venue', 'day_of_week', 'temperature'], axis = 1)\n",
    "pd_data = pd_data.drop(['wind_speed', 'wind_direction', 'sky', 'total_runs'], axis = 1)\n",
    "pd_data = pd_data.drop(['game_hours_dec', 'season', 'home_team_loss', 'home_team_outcome'], axis = 1)\n",
    "pd_data = pd_data.drop(['away_team_runs', 'home_team_runs'], axis = 1)\n",
    "pd_data.head()"
   ]
  },
  {
   "cell_type": "code",
   "execution_count": 109,
   "metadata": {},
   "outputs": [
    {
     "data": {
      "text/html": [
       "<div>\n",
       "<style scoped>\n",
       "    .dataframe tbody tr th:only-of-type {\n",
       "        vertical-align: middle;\n",
       "    }\n",
       "\n",
       "    .dataframe tbody tr th {\n",
       "        vertical-align: top;\n",
       "    }\n",
       "\n",
       "    .dataframe thead th {\n",
       "        text-align: right;\n",
       "    }\n",
       "</style>\n",
       "<table border=\"1\" class=\"dataframe\">\n",
       "  <thead>\n",
       "    <tr style=\"text-align: right;\">\n",
       "      <th></th>\n",
       "      <th>away_team_errors</th>\n",
       "      <th>away_team_hits</th>\n",
       "      <th>home_team_errors</th>\n",
       "      <th>home_team_hits</th>\n",
       "    </tr>\n",
       "  </thead>\n",
       "  <tbody>\n",
       "    <tr>\n",
       "      <th>0</th>\n",
       "      <td>1</td>\n",
       "      <td>7</td>\n",
       "      <td>0</td>\n",
       "      <td>9</td>\n",
       "    </tr>\n",
       "    <tr>\n",
       "      <th>1</th>\n",
       "      <td>0</td>\n",
       "      <td>5</td>\n",
       "      <td>0</td>\n",
       "      <td>8</td>\n",
       "    </tr>\n",
       "    <tr>\n",
       "      <th>2</th>\n",
       "      <td>0</td>\n",
       "      <td>5</td>\n",
       "      <td>0</td>\n",
       "      <td>9</td>\n",
       "    </tr>\n",
       "    <tr>\n",
       "      <th>3</th>\n",
       "      <td>0</td>\n",
       "      <td>8</td>\n",
       "      <td>1</td>\n",
       "      <td>8</td>\n",
       "    </tr>\n",
       "    <tr>\n",
       "      <th>4</th>\n",
       "      <td>1</td>\n",
       "      <td>8</td>\n",
       "      <td>0</td>\n",
       "      <td>8</td>\n",
       "    </tr>\n",
       "  </tbody>\n",
       "</table>\n",
       "</div>"
      ],
      "text/plain": [
       "   away_team_errors  away_team_hits  home_team_errors  home_team_hits\n",
       "0                 1               7                 0               9\n",
       "1                 0               5                 0               8\n",
       "2                 0               5                 0               9\n",
       "3                 0               8                 1               8\n",
       "4                 1               8                 0               8"
      ]
     },
     "execution_count": 109,
     "metadata": {},
     "output_type": "execute_result"
    }
   ],
   "source": [
    "# training data\n",
    "train = pd_data[:2000]\n",
    "train = train.drop('home_team_win', axis = 1)\n",
    "# test data\n",
    "test = pd_data[2000:]\n",
    "test_ans = test['home_team_win'].values\n",
    "test = test.drop('home_team_win', axis = 1)\n",
    "train.head()"
   ]
  },
  {
   "cell_type": "markdown",
   "metadata": {},
   "source": [
    "## design my tree rule\n",
    "    取主客隊的安打和失誤數量，並進一步求得安打的四分位數來做比較\n",
    "    主客隊安打平均數：8、75%：11、25%：6\n",
    "![](https://i.imgur.com/ONhcCdh.jpg)"
   ]
  },
  {
   "cell_type": "code",
   "execution_count": 110,
   "metadata": {},
   "outputs": [
    {
     "name": "stdout",
     "output_type": "stream",
     "text": [
      "0.577 0.592 8.753 8.7005\n",
      "11.0 11.0 6.0 6.0\n",
      "   away_team_errors  away_team_hits  home_team_errors  home_team_hits  \\\n",
      "0                 1               7                 0               9   \n",
      "1                 0               5                 0               8   \n",
      "2                 0               5                 0               9   \n",
      "3                 0               8                 1               8   \n",
      "4                 1               8                 0               8   \n",
      "5                 1              11                 1               7   \n",
      "\n",
      "   predict_result  \n",
      "0               1  \n",
      "1               1  \n",
      "2               1  \n",
      "3               1  \n",
      "4               1  \n",
      "5               0  \n",
      "[1 1 1 ... 0 0 1]\n"
     ]
    }
   ],
   "source": [
    "import numpy as np\n",
    "#for i in range(0, 2000):\n",
    "#    print(i)\n",
    "ate = train['away_team_errors'].mean()\n",
    "hte = train['home_team_errors'].mean()\n",
    "ath = train['away_team_hits'].mean()\n",
    "hth = train['home_team_hits'].mean()\n",
    "print(ate, hte, ath, hth)\n",
    "\n",
    "ath_75 = np.percentile(train['away_team_hits'], 75)\n",
    "hth_75 = np.percentile(train['home_team_hits'], 75)\n",
    "ath_25 = np.percentile(train['away_team_hits'], 25)\n",
    "hth_25 = np.percentile(train['home_team_hits'], 25)\n",
    "print(ath_75, hth_75, ath_25, hth_25)\n",
    "\n",
    "train['predict_result'] = 0\n",
    "for i in range(0, 2000):\n",
    "    if(train['home_team_hits'][i] > hth):\n",
    "        if(train['away_team_hits'][i] > ath):\n",
    "            if(train['home_team_hits'][i] > hth_75):\n",
    "                train['predict_result'][i] = 1\n",
    "            else:\n",
    "                if(train['away_team_hits'][i] > ath_75):\n",
    "                    train['predict_result'][i] = 0\n",
    "                else:\n",
    "                    train['predict_result'][i] = 1\n",
    "        else:\n",
    "            if(train['home_team_errors'][i] >= 2):\n",
    "                if(train['home_team_hits'][i] > hth_75):\n",
    "                    train['predict_result'][i] = 1\n",
    "                else:\n",
    "                    train['predict_result'][i] = 0\n",
    "            else:\n",
    "                train['predict_result'][i] = 1\n",
    "    else:\n",
    "        if(train['away_team_hits'][i] > ath):\n",
    "            if(train['away_team_hits'][i] > ath_75):\n",
    "                train['predict_result'][i] = 0\n",
    "            else:\n",
    "                if(train['away_team_errors'][i] >= 3 ):\n",
    "                    train['predict_result'][i] = 1\n",
    "                else:\n",
    "                    train['predict_result'][i] = 0\n",
    "        else:    \n",
    "            if(train['home_team_hits'][i] > hth_25):\n",
    "                if(train['home_team_errors'][i] >= 2):\n",
    "                    train['predict_result'][i] = 0\n",
    "                else:\n",
    "                    train['predict_result'][i] = 1\n",
    "            else:\n",
    "                if(train['away_team_hits'][i] > ath_25):\n",
    "                    train['predict_result'][i] = 0\n",
    "                else:\n",
    "                    train['predict_result'][i] = 1\n",
    "\n",
    "ans = train['predict_result'].values\n",
    "print(train.head(6))\n",
    "print(ans)"
   ]
  },
  {
   "cell_type": "markdown",
   "metadata": {},
   "source": [
    "## build my tree"
   ]
  },
  {
   "cell_type": "code",
   "execution_count": 111,
   "metadata": {},
   "outputs": [
    {
     "data": {
      "text/plain": [
       "True"
      ]
     },
     "execution_count": 111,
     "metadata": {},
     "output_type": "execute_result"
    }
   ],
   "source": [
    "train = train.drop('predict_result', axis = 1)\n",
    "dtree = DecisionTreeClassifier(max_depth = 4)\n",
    "dtree.fit(train, ans)\n",
    "\n",
    "dot_data = StringIO()\n",
    "export_graphviz(dtree, \n",
    "                out_file = dot_data,  \n",
    "                filled = True, \n",
    "                feature_names = list(train),\n",
    "                class_names = ['lose','win'],\n",
    "                special_characters = True)\n",
    "\n",
    "graph = pydotplus.graph_from_dot_data(dot_data.getvalue())  \n",
    "graph.write_pdf(\"tree.pdf\")"
   ]
  },
  {
   "cell_type": "markdown",
   "metadata": {},
   "source": [
    "## my decision tree\n",
    "![](https://i.imgur.com/QPksa8j.png)"
   ]
  },
  {
   "cell_type": "markdown",
   "metadata": {},
   "source": [
    "## Discussion\n",
    "    此decision tree問題的大小於和我自訂的rule相反，因此左右剛好顛倒\n",
    "    gini值高的場次不多，大多數的比賽場次都可以順利分群\n",
    "    第二層判斷客場隊伍安打數直接取75%和25%當分水嶺，而非我選用的50%，可以為之後省下一些多餘的判斷\n",
    "    安打數是決定比賽最關鍵的因素，當兩隊安打數有落差時可以很好判斷比賽勝負\n",
    "    若安打數差距不大可以利用失誤次數判斷勝負\n",
    "    \n",
    "    "
   ]
  },
  {
   "cell_type": "markdown",
   "metadata": {},
   "source": [
    "![](https://imgur.com/QPksa8j)"
   ]
  },
  {
   "cell_type": "code",
   "execution_count": 112,
   "metadata": {},
   "outputs": [
    {
     "data": {
      "text/plain": [
       "array([0.00611539, 0.51228585, 0.02232171, 0.45927705])"
      ]
     },
     "execution_count": 112,
     "metadata": {},
     "output_type": "execute_result"
    }
   ],
   "source": [
    "dtree.feature_importances_"
   ]
  },
  {
   "cell_type": "code",
   "execution_count": 113,
   "metadata": {},
   "outputs": [
    {
     "data": {
      "text/plain": [
       "0.7624190064794817"
      ]
     },
     "execution_count": 113,
     "metadata": {},
     "output_type": "execute_result"
    }
   ],
   "source": [
    "predict = dtree.predict(test)\n",
    "from sklearn.metrics import accuracy_score\n",
    "\n",
    "accuracy_score(test_ans, predict)"
   ]
  },
  {
   "cell_type": "markdown",
   "metadata": {},
   "source": [
    "## **預測準確率約為0.76**\n",
    "    棒球比賽結局多變，即使安打數比對手多有時候也未必會贏球（關鍵時刻無安打、保送多......等）\n",
    "    此外，犧牲打也有打點（有得分）但不會記入安打，因此若要更準確的預測分析可能就需要更多數據"
   ]
  }
 ],
 "metadata": {
  "kernelspec": {
   "display_name": "Python 3",
   "language": "python",
   "name": "python3"
  },
  "language_info": {
   "codemirror_mode": {
    "name": "ipython",
    "version": 3
   },
   "file_extension": ".py",
   "mimetype": "text/x-python",
   "name": "python",
   "nbconvert_exporter": "python",
   "pygments_lexer": "ipython3",
   "version": "3.7.1"
  }
 },
 "nbformat": 4,
 "nbformat_minor": 2
}
